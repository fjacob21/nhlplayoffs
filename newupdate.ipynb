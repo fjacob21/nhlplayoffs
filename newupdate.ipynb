{
 "cells": [
  {
   "cell_type": "code",
   "execution_count": 1,
   "metadata": {},
   "outputs": [],
   "source": [
    "import json\n",
    "import sys\n",
    "import requests\n",
    "from datetime import datetime\n",
    "from dateutil import tz\n",
    "import pprint"
   ]
  },
  {
   "cell_type": "code",
   "execution_count": 2,
   "metadata": {},
   "outputs": [],
   "source": [
    "def fetch_data(server, year):\n",
    "    data = requests.get('http://' + server + '/nhlplayoffs/api/v3.0/' + str(year) + '/data').json()\n",
    "    return data\n",
    "\n",
    "def update_data(server, year, data):\n",
    "    url = 'http://' + server + '/nhlplayoffs/api/v3.0/' + str(year) + '/data'\n",
    "    headers = {'content-type': 'application/json'}\n",
    "    requests.post(url, data = json.dumps(data), headers=headers)"
   ]
  },
  {
   "cell_type": "code",
   "execution_count": 3,
   "metadata": {},
   "outputs": [],
   "source": [
    "def get_team(id):\n",
    "    url = 'https://statsapi.web.nhl.com/api/v1/teams/' + str(id)\n",
    "    team = requests.get(url).json()\n",
    "    return team['teams'][0]\n",
    "\n",
    "def get_teams(year):\n",
    "    ystr = str(year) + str(year+1)\n",
    "    url = 'https://statsapi.web.nhl.com/api/v1/standings?season=' + ystr\n",
    "    standings = requests.get(url).json()\n",
    "    teams = {}\n",
    "    for record in standings[\"records\"]:\n",
    "        for team in record['teamRecords']:\n",
    "            info = get_team(team['team']['id'])\n",
    "            team_record = {'info':info, 'standings':team, 'schedule':[]}\n",
    "            teams[team['team']['id']] = team_record\n",
    "    return teams\n",
    "\n",
    "def get_standings(teams):\n",
    "    standings = {'Eastern':{'Atlantic':[], 'Metropolitan':[], 'teams':[]},\n",
    "                 'Western':{'Central':[], 'Pacific':[], 'teams':[]},\n",
    "                 'teams':[]}\n",
    "\n",
    "    league = sorted(teams, key=lambda k: int(k['standings']['divisionRank']))\n",
    "    for team in league:\n",
    "        standings['teams'].append(team)\n",
    "        standings[team['info']['conference']['name']]['teams'].append(team)\n",
    "        standings[team['info']['conference']['name']][team['info']['division']['name']].append(team)\n",
    "    standings['teams'] = sorted(standings['teams'], key=lambda k: int(k['standings']['leagueRank']))\n",
    "\n",
    "    standings['Eastern']['teams'] = sorted(standings['Eastern']['teams'], key=lambda k: int(k['standings']['conferenceRank']))\n",
    "    standings['Western']['teams'] = sorted(standings['Western']['teams'], key=lambda k: int(k['standings']['conferenceRank']))\n",
    "\n",
    "    standings['Eastern']['Atlantic'] = sorted(standings['Eastern']['Atlantic'], key=lambda k: int(k['standings']['divisionRank']))\n",
    "    standings['Eastern']['Metropolitan'] = sorted(standings['Eastern']['Metropolitan'], key=lambda k: int(k['standings']['divisionRank']))\n",
    "    standings['Western']['Central'] = sorted(standings['Western']['Central'], key=lambda k: int(k['standings']['divisionRank']))\n",
    "    standings['Western']['Pacific'] = sorted(standings['Western']['Pacific'], key=lambda k: int(k['standings']['divisionRank']))\n",
    "\n",
    "    return standings\n",
    "\n",
    "def get_schedule(team, year):\n",
    "    print('Get schedule for ' + str(team))\n",
    "    url = 'https://statsapi.web.nhl.com/api/v1/schedule?startDate=' + str(year) + '-10-01&endDate=' + str(year+1) + '-06-29&expand=schedule.teams,schedule.linescore,schedule.broadcasts,schedule.ticket,schedule.game.content.media.epg&leaderCategories=&site=en_nhlCA&teamId=' + str(team)\n",
    "    team_schedule = requests.get(url)\n",
    "    return team_schedule.json()\n",
    "\n",
    "def get_playoff_schedule(team, year):\n",
    "    url = 'https://statsapi.web.nhl.com/api/v1/schedule?startDate=' + str(year+1) + '-04-01&endDate=' + str(year+1) + '-06-29&expand=schedule.teams,&site=en_nhlCA&teamId=' + str(team)\n",
    "    team_schedule = requests.get(url)\n",
    "    return team_schedule.json()"
   ]
  },
  {
   "cell_type": "code",
   "execution_count": 4,
   "metadata": {
    "collapsed": false,
    "jupyter": {
     "outputs_hidden": false
    }
   },
   "outputs": [],
   "source": [
    "def set_matchup_childs(matchup, right, left):\n",
    "    matchup['left'] = left\n",
    "    matchup['right'] = right\n",
    "    \n",
    "def create_matchup(id, round, next):\n",
    "    matchup = {'id': id, 'home':0, 'away':0, 'round':round, 'start':'', 'result':{}, 'schedule':[], 'season':{}, 'next': next}\n",
    "    matchup['left'] = None\n",
    "    matchup['right'] = None\n",
    "    matchup['result'] = {'home_win':0, 'away_win':0}\n",
    "    return matchup\n",
    "\n",
    "def create_matchups_tree():\n",
    "    matchups = {}\n",
    "    sc = create_matchup('sc', 4, None)\n",
    "    matchups[sc['id']] = sc\n",
    "    \n",
    "    e = create_matchup('e', 3, sc)\n",
    "    w = create_matchup('w', 3, sc)\n",
    "    matchups[e['id']] = e\n",
    "    matchups[w['id']] = w\n",
    "    \n",
    "    a = create_matchup('a', 2, e)\n",
    "    m = create_matchup('m', 2, e)\n",
    "    c = create_matchup('c', 2, w)\n",
    "    p = create_matchup('p', 2, w)\n",
    "    matchups[a['id']] = a\n",
    "    matchups[m['id']] = m\n",
    "    matchups[c['id']] = c\n",
    "    matchups[p['id']] = p\n",
    "    \n",
    "    a1 = create_matchup('a1', 1, a)\n",
    "    a2 = create_matchup('a2', 1, a)\n",
    "    m1 = create_matchup('m1', 1, m)\n",
    "    m2 = create_matchup('m2', 1, m)\n",
    "    c1 = create_matchup('c1', 1, c)\n",
    "    c2 = create_matchup('c2', 1, c)\n",
    "    p1 = create_matchup('p1', 1, p)\n",
    "    p2 = create_matchup('p2', 1, p)\n",
    "    matchups[a1['id']] = a1\n",
    "    matchups[a2['id']] = a2\n",
    "    matchups[m1['id']] = m1\n",
    "    matchups[m2['id']] = m2\n",
    "    matchups[c1['id']] = c1\n",
    "    matchups[c2['id']] = c2\n",
    "    matchups[p1['id']] = p1\n",
    "    matchups[p2['id']] = p2\n",
    "    \n",
    "    #build tree\n",
    "    set_matchup_childs(sc, e, w)\n",
    "    \n",
    "    set_matchup_childs(w, p, c)\n",
    "    set_matchup_childs(e, m, a)\n",
    "    \n",
    "    set_matchup_childs(c, c2, c1)\n",
    "    set_matchup_childs(p, p2, p1)\n",
    "    set_matchup_childs(a, a2, a1)\n",
    "    set_matchup_childs(m, m2, m1)\n",
    "    \n",
    "    return matchups"
   ]
  },
  {
   "cell_type": "code",
   "execution_count": 5,
   "metadata": {},
   "outputs": [],
   "source": [
    "def get_round_matchups(matchups, round):\n",
    "    results = []\n",
    "    for matchup in list(matchups.values()):\n",
    "        if matchup['round'] == round:\n",
    "            results.append(matchup)\n",
    "    return results"
   ]
  },
  {
   "cell_type": "code",
   "execution_count": 6,
   "metadata": {
    "collapsed": false,
    "jupyter": {
     "outputs_hidden": false
    }
   },
   "outputs": [],
   "source": [
    "year = 2019\n",
    "teams = get_teams(year)\n",
    "standings = get_standings(list(teams.values()))\n",
    "matchups = create_matchups_tree()"
   ]
  },
  {
   "cell_type": "code",
   "execution_count": 7,
   "metadata": {
    "collapsed": false,
    "jupyter": {
     "outputs_hidden": false
    }
   },
   "outputs": [],
   "source": [
    "def parse_time(timestamp):\n",
    "    from_zone = tz.gettz('UTC')\n",
    "    to_zone = tz.gettz('America/New_York')\n",
    "    utc = datetime.strptime(timestamp, '%Y-%m-%dT%H:%M:%SZ')\n",
    "    utc = utc.replace(tzinfo=from_zone)\n",
    "    return utc.astimezone(to_zone)\n",
    "\n",
    "def get_matchup_schedule(matchup, year, schedules=None):\n",
    "    home_id = matchup['home']\n",
    "    away_id = matchup['away']\n",
    "    result = []\n",
    "    s = schedules\n",
    "    if schedules is None:\n",
    "        print(home_id)\n",
    "        s = get_playoff_schedule(int(home_id), year)\n",
    "    if 'dates' in s:\n",
    "        for date in s['dates']:\n",
    "            game = date['games'][0]\n",
    "            game_home_id = game['teams']['home']['team']['id']\n",
    "            game_away_id = game['teams']['away']['team']['id']\n",
    "            if game['gameType'] == 'P':\n",
    "                if game_home_id == away_id or game_away_id == away_id:\n",
    "                    result.append(game)\n",
    "    result = sorted(result, key=lambda k: parse_time(k['gameDate']))\n",
    "    return result\n",
    "\n",
    "def get_matchup_start(matchup):\n",
    "    if len(matchup['schedule']) == 0:\n",
    "        return ''\n",
    "    return matchup['schedule'][0]['gameDate']\n",
    "\n",
    "def get_matchup_result(matchup):\n",
    "    result = {}\n",
    "    home_id = matchup['home']\n",
    "    away_id = matchup['away']\n",
    "    home_win = 0\n",
    "    away_win = 0\n",
    "    for game in matchup['schedule']:\n",
    "        game_home_id = game['teams']['home']['team']['id']\n",
    "        game_away_id = game['teams']['away']['team']['id']\n",
    "        if game['gameType'] == 'P':\n",
    "            if game_home_id == away_id or game_away_id == away_id:\n",
    "                if game_home_id == away_id: #reverse\n",
    "                    away_score = game['teams']['home']['score']\n",
    "                    home_score = game['teams']['away']['score']\n",
    "                else:\n",
    "                    away_score = game['teams']['away']['score']\n",
    "                    home_score = game['teams']['home']['score']\n",
    "                if home_score > away_score:\n",
    "                    home_win = home_win + 1\n",
    "                elif home_score < away_score:\n",
    "                    away_win = away_win + 1\n",
    "                #print(match['home']['team']['name'], home_score, match['away']['team']['name'], away_score)\n",
    "                #print(game['teams']['home']['team']['name'],game['teams']['home']['score'],match['away']['team']['name'],game['teams']['away']['score'])\n",
    "    result['home_win'] = home_win\n",
    "    result['away_win'] = away_win\n",
    "    return result\n",
    "    \n",
    "def is_matchup_finished(matchup):\n",
    "    return matchup['result']['home_win'] == 4 or matchup['result']['away_win'] == 4\n",
    "\n",
    "def get_matchup_winner(matchup):\n",
    "    if matchup['result']['home_win'] == 4:\n",
    "        return matchup['home']\n",
    "    if matchup['result']['away_win'] == 4:\n",
    "        return matchup['away']\n",
    "    return 0\n",
    "\n",
    "def update_matchup(matchup, home=0, away=0):\n",
    "    if is_matchup_finished(matchup):\n",
    "        return\n",
    "\n",
    "    if matchup['home'] != 0 and matchup['away'] != 0:\n",
    "        #update result and maybe pass to next stage\n",
    "        matchup['schedule'] = get_matchup_schedule(matchup, year)\n",
    "        if matchup['start'] == '':\n",
    "            matchup['start'] = get_matchup_start(matchup)\n",
    "        matchup['result'] = get_matchup_result(matchup)\n",
    "        if is_matchup_finished(matchup) and matchup['next'] is not None:\n",
    "            print('Finished',matchup['id'])\n",
    "            update_matchup(matchup['next'], get_matchup_winner(matchup))\n",
    "    else:\n",
    "        if matchup['home'] == 0:\n",
    "            matchup['home'] = home\n",
    "            matchup['away'] = away\n",
    "        else:\n",
    "            matchup['away'] = home\n",
    "            \n",
    "        if matchup['home'] != 0 and matchup['away'] != 0:\n",
    "            #Begin matchup\n",
    "            hi = teams[matchup['home']]\n",
    "            ai = teams[matchup['away']]\n",
    "            if int(hi['standings']['leagueRank']) > int(ai['standings']['leagueRank']): \n",
    "                matchup['home'] = ai['info']['id']\n",
    "                matchup['away'] = hi['info']['id']\n",
    "            hi = teams[matchup['home']]\n",
    "            ai = teams[matchup['away']]\n",
    "            matchup['schedule'] = get_matchup_schedule(matchup, year)\n",
    "            matchup['start'] = get_matchup_start(matchup)\n",
    "\n",
    "def update_matchups(matchups):\n",
    "    ms = list(matchups.values())\n",
    "    ms = sorted(ms, key=lambda k: k['round'])\n",
    "    for matchup in ms:\n",
    "        update_matchup(matchup)"
   ]
  },
  {
   "cell_type": "code",
   "execution_count": 20,
   "metadata": {
    "collapsed": false,
    "jupyter": {
     "outputs_hidden": false
    }
   },
   "outputs": [
    {
     "name": "stdout",
     "output_type": "stream",
     "text": [
      "3\n",
      "15\n",
      "3\n",
      "15\n",
      "9\n",
      "29\n",
      "30\n",
      "24\n",
      "16\n",
      "28\n"
     ]
    }
   ],
   "source": [
    "ealeader = standings['Eastern']['Atlantic'][0]\n",
    "emleader = standings['Eastern']['Metropolitan'][0]\n",
    "wcleader = standings['Western']['Central'][0]\n",
    "wpleader = standings['Western']['Pacific'][0]\n",
    "for team in standings['Eastern']['teams']:\n",
    "    if int(team['standings']['wildCardRank']) == 1:\n",
    "        e1wild = team\n",
    "    if int(team['standings']['wildCardRank']) == 2:\n",
    "        e2wild = team\n",
    "\n",
    "for team in standings['Western']['teams']:\n",
    "    if int(team['standings']['wildCardRank']) == 1:\n",
    "        w1wild = team\n",
    "    if int(team['standings']['wildCardRank']) == 2:\n",
    "        w2wild = team\n",
    "\n",
    "a1 = matchups['a1']\n",
    "m1 = matchups['m1']\n",
    "update_matchup(a1, ealeader['info']['id'])\n",
    "update_matchup(m1, emleader['info']['id'])\n",
    "if int(ealeader['standings']['conferenceRank']) < int(emleader['standings']['conferenceRank']):\n",
    "    update_matchup(a1, e2wild['info']['id'])\n",
    "    update_matchup(m1, e1wild['info']['id'])\n",
    "else:\n",
    "    update_matchup(a1, e1wild['info']['id'])\n",
    "    update_matchup(m1, e2wild['info']['id'])\n",
    "    \n",
    "a2 = matchups['a2']\n",
    "update_matchup(a2, standings['Eastern']['Atlantic'][1]['info']['id'], standings['Eastern']['Atlantic'][2]['info']['id'])\n",
    "m2 = matchups['m2']\n",
    "update_matchup(m2, standings['Eastern']['Metropolitan'][1]['info']['id'], standings['Eastern']['Metropolitan'][2]['info']['id'])\n",
    "\n",
    "c1 = matchups['c1']\n",
    "p1 = matchups['p1']\n",
    "update_matchup(c1, wcleader['info']['id'])\n",
    "update_matchup(p1, wpleader['info']['id'])\n",
    "if int(wcleader['standings']['conferenceRank']) < int(wpleader['standings']['conferenceRank']):\n",
    "    update_matchup(c1, w2wild['info']['id'])\n",
    "    update_matchup(p1, w1wild['info']['id'])\n",
    "else:\n",
    "    update_matchup(c1, w1wild['info']['id'])\n",
    "    update_matchup(p1, w2wild['info']['id'])\n",
    "    \n",
    "c2 = matchups['c2']\n",
    "update_matchup(c2, standings['Western']['Central'][1]['info']['id'], standings['Western']['Central'][2]['info']['id'])\n",
    "p2 = matchups['p2']\n",
    "update_matchup(p2, standings['Western']['Pacific'][1]['info']['id'], standings['Western']['Pacific'][2]['info']['id'])\n"
   ]
  },
  {
   "cell_type": "code",
   "execution_count": 16,
   "metadata": {
    "collapsed": false,
    "jupyter": {
     "outputs_hidden": false
    }
   },
   "outputs": [
    {
     "data": {
      "text/plain": [
       "{u'copyright': u'NHL and the NHL Shield are registered trademarks of the National Hockey League. NHL and NHL team marks are the property of the NHL and its teams. \\xa9 NHL 2017. All Rights Reserved.',\n",
       " u'dates': [],\n",
       " u'totalEvents': 0,\n",
       " u'totalGames': 0,\n",
       " u'totalItems': 0,\n",
       " u'wait': 10}"
      ]
     },
     "execution_count": 16,
     "metadata": {},
     "output_type": "execute_result"
    }
   ],
   "source": [
    "get_playoff_schedule(int(3), 2017)"
   ]
  },
  {
   "cell_type": "code",
   "execution_count": 14,
   "metadata": {
    "collapsed": false,
    "jupyter": {
     "outputs_hidden": false
    }
   },
   "outputs": [],
   "source": [
    "matchups = {}\n",
    "if int(ealeader['standings']['conferenceRank']) < int(emleader['standings']['conferenceRank']):\n",
    "    a1 = {'id': 'a1', 'home': ealeader['info']['id'], 'away': e2wild['info']['id'], 'round':1}\n",
    "    a2 = {'id': 'a2', 'home': standings['Eastern']['Atlantic'][1]['info']['id'], 'away': standings['Eastern']['Atlantic'][2]['info']['id'], 'round':1}\n",
    "    m1 = {'id': 'm1', 'home': emleader['info']['id'], 'away': e1wild['info']['id'], 'round':1}\n",
    "    m2 = {'id': 'm2', 'home': standings['Eastern']['Metropolitan'][1]['info']['id'], 'away': standings['Eastern']['Metropolitan'][2]['info']['id'], 'round':1}\n",
    "    \n",
    "elif int(ealeader['standings']['conferenceRank']) > int(emleader['standings']['conferenceRank']):\n",
    "    a1 = {'id': 'a1', 'home': ealeader['info']['id'], 'away': e1wild['info']['id'], 'round':1}\n",
    "    a2 = {'id': 'a2', 'home': standings['Eastern']['Atlantic'][1]['info']['id'], 'away': standings['Eastern']['Atlantic'][2]['info']['id'], 'round':1}\n",
    "    m1 = {'id': 'm1', 'home': emleader['info']['id'], 'away': e2wild['info']['id'], 'round':1}\n",
    "    m2 = {'id': 'm2', 'home': standings['Eastern']['Metropolitan'][1]['info']['id'], 'away': standings['Eastern']['Metropolitan'][2]['info']['id'], 'round':1}\n",
    "\n",
    "a = {'id': 'a', 'home':0, 'away':0, 'round':2}\n",
    "a1['next'] = a\n",
    "a2['next'] = a\n",
    "\n",
    "m = {'id': 'm', 'home':0, 'away':0, 'round':2}\n",
    "m1['next'] = m\n",
    "m2['next'] = m\n",
    "\n",
    "e = {'id': 'e', 'home':0, 'away':0, 'round':3}\n",
    "a['next'] = e\n",
    "m['next'] = e\n",
    "\n",
    "matchups[a1['id']] = a1\n",
    "matchups[a2['id']] = a2\n",
    "matchups[m1['id']] = m1\n",
    "matchups[m2['id']] = m2\n",
    "matchups[a['id']] = a\n",
    "matchups[m['id']] = m\n",
    "matchups[e['id']] = e"
   ]
  },
  {
   "cell_type": "code",
   "execution_count": 17,
   "metadata": {
    "collapsed": false,
    "jupyter": {
     "outputs_hidden": false
    }
   },
   "outputs": [],
   "source": [
    "if int(wcleader['standings']['conferenceRank']) < int(wpleader['standings']['conferenceRank']):\n",
    "    c1 = {'id': 'c1', 'home': wcleader['info']['id'], 'away': w2wild['info']['id'], 'round':1}\n",
    "    c2 = {'id': 'c2', 'home': standings['Western']['Central'][1]['info']['id'], 'away': standings['Western']['Central'][2]['info']['id'], 'round':1}\n",
    "    p1 = {'id': 'p1', 'home': wpleader['info']['id'], 'away': w1wild['info']['id'], 'round':1}\n",
    "    p2 = {'id': 'p2', 'home': standings['Western']['Pacific'][1]['info']['id'], 'away': standings['Western']['Pacific'][2]['info']['id'], 'round':1}\n",
    "\n",
    "elif int(wcleader['standings']['conferenceRank']) > int(wpleader['standings']['conferenceRank']):\n",
    "    c1 = {'id': 'c1', 'home': wcleader['info']['id'], 'away': w1wild['info']['id'], 'round':1}\n",
    "    c2 = {'id': 'c2', 'home': standings['Western']['Central'][1]['info']['id'], 'away': standings['Western']['Central'][2]['info']['id'], 'round':1}\n",
    "    p1 = {'id': 'p1', 'home': wpleader['info']['id'], 'away': w2wild['info']['id'], 'round':1}\n",
    "    p2 = {'id': 'p2', 'home': standings['Western']['Pacific'][1]['info']['id'], 'away': standings['Western']['Pacific'][2]['info']['id'], 'round':1}\n",
    "    \n",
    "c = {'id': 'c', 'home':0, 'away':0, 'round':2}\n",
    "c1['next'] = c\n",
    "c2['next'] = c\n",
    "\n",
    "p = {'id': 'p', 'home':0, 'away':0, 'round':2}\n",
    "p1['next'] = p\n",
    "p2['next'] = p\n",
    "\n",
    "w = {'id': 'w', 'home':0, 'away':0, 'round':3}\n",
    "c['next'] = w\n",
    "p['next'] = w\n",
    "\n",
    "matchups[c1['id']] = c1\n",
    "matchups[c2['id']] = c2\n",
    "matchups[p1['id']] = p1\n",
    "matchups[p2['id']] = p2\n",
    "matchups[c['id']] = c\n",
    "matchups[p['id']] = p\n",
    "matchups[w['id']] = w\n",
    "\n",
    "sc = {'id': 'sc', 'home':0, 'away':0, 'round':4}\n",
    "e['next'] = sc\n",
    "w['next'] = sc\n",
    "\n",
    "matchups[sc['id']] = sc"
   ]
  },
  {
   "cell_type": "code",
   "execution_count": 92,
   "metadata": {
    "collapsed": true,
    "jupyter": {
     "outputs_hidden": true
    }
   },
   "outputs": [],
   "source": [
    "def build_matchup_tree(raw_matchups):\n",
    "    matchups = {}\n",
    "    for matchup_raw in list(raw_matchups.values()):\n",
    "        matchup = matchup_raw.copy()\n",
    "        matchups[matchup['id']] = matchup\n",
    "        \n",
    "    for matchup in list(matchups.values()):\n",
    "        next = matchup['next']\n",
    "        right = matchup['right']\n",
    "        left = matchup['left']\n",
    "        if next in raw_matchups:\n",
    "            matchup['next'] = matchups[next]\n",
    "        if right in raw_matchups:\n",
    "            matchup['right'] = matchups[right]\n",
    "        if left in raw_matchups:\n",
    "            matchup['left'] = matchups[left]\n",
    "    return matchups\n",
    "\n",
    "def store_matchup_tree(matchups):\n",
    "    raw_matchups = {}\n",
    "    for matchup in list(matchups.values()):\n",
    "        raw_matchup = matchup.copy()\n",
    "        if matchup['next'] is not None:\n",
    "            raw_matchup['next'] = matchup['next']['id']\n",
    "        if matchup['right'] is not None:\n",
    "            raw_matchup['right'] = matchup['right']['id']\n",
    "        if matchup['left'] is not None:\n",
    "            raw_matchup['left'] = matchup['left']['id']\n",
    "        raw_matchups[raw_matchup['id']] = raw_matchup \n",
    "    return raw_matchups\n",
    "\n",
    "tr = store_matchup_tree(matchups)\n",
    "t = build_matchup_tree(tr)"
   ]
  },
  {
   "cell_type": "code",
   "execution_count": 9,
   "metadata": {
    "collapsed": false,
    "jupyter": {
     "outputs_hidden": false
    }
   },
   "outputs": [
    {
     "name": "stdout",
     "output_type": "stream",
     "text": [
      "[('p2', u'2016-04-15T02:30:00Z', u'Los Angeles Kings', u'San Jose Sharks'), ('p1', u'2016-04-16T02:30:00Z', u'Anaheim Ducks', u'Nashville Predators'), ('a1', u'2016-04-15T00:00:00Z', u'Florida Panthers', u'New York Islanders'), ('a2', u'2016-04-13T23:00:00Z', u'Tampa Bay Lightning', u'Detroit Red Wings'), ('m1', u'2016-04-14T23:00:00Z', u'Washington Capitals', u'Philadelphia Flyers'), ('m2', u'2016-04-14T00:00:00Z', u'Pittsburgh Penguins', u'New York Rangers'), ('c2', u'2016-04-14T01:30:00Z', u'St. Louis Blues', u'Chicago Blackhawks'), ('c1', u'2016-04-15T01:30:00Z', u'Dallas Stars', u'Minnesota Wild')]\n"
     ]
    }
   ],
   "source": [
    "print[(matchup['id'], matchup['start'],teams[matchup['home']]['info']['name'],teams[matchup['away']]['info']['name']) for matchup in matchups.values() if matchup['home']!=0]"
   ]
  },
  {
   "cell_type": "code",
   "execution_count": 42,
   "metadata": {
    "collapsed": true,
    "jupyter": {
     "outputs_hidden": true
    }
   },
   "outputs": [],
   "source": [
    "matchups = create_matchups_tree()"
   ]
  },
  {
   "cell_type": "code",
   "execution_count": 31,
   "metadata": {
    "collapsed": false,
    "jupyter": {
     "outputs_hidden": false
    }
   },
   "outputs": [
    {
     "name": "stdout",
     "output_type": "stream",
     "text": [
      "(7, 7)\n"
     ]
    }
   ],
   "source": [
    "#display binary tree\n",
    "nb_round = 4\n",
    "width = (nb_round * 2) - 1\n",
    "heigh = (2**(nb_round-1)) -1\n",
    "print(width,heigh)"
   ]
  },
  {
   "cell_type": "code",
   "execution_count": 21,
   "metadata": {
    "collapsed": false,
    "jupyter": {
     "outputs_hidden": false
    }
   },
   "outputs": [
    {
     "name": "stdout",
     "output_type": "stream",
     "text": [
      "DAL-4 vs 2-MIN                                                                           FLA-2 vs 4-NYI\n",
      "               DAL-2 vs 3-STL                                             NYI-1 vs 4-TBL               \n",
      "STL-4 vs 3-CHI                              sc                                           TBL-4 vs 1-DET\n",
      "                              w                             TBL-0 vs 0-?                                \n",
      "ANA-3 vs 4-NSH                                                                           WSH-4 vs 2-PHI\n",
      "               SJS-3 vs 2-NSH                                             WSH-2 vs 3-PIT               \n",
      "LAK-1 vs 4-SJS                                                                           PIT-4 vs 1-NYR\n"
     ]
    }
   ],
   "source": [
    "def display(matchups):\n",
    "    nb_round = 4\n",
    "    width = (nb_round * 2) - 1\n",
    "    heigh = (2**(nb_round-1)) -1\n",
    "    display = [['' for x in range(width)] for y in range(heigh)] \n",
    "    def walk_matchup_tree(root, x, y, dx):\n",
    "        display[x][y] = root['id']\n",
    "        if root['left'] is not None:\n",
    "            walk_matchup_tree(root['left'], x+dx, y-(root['round']-1), dx)\n",
    "        if root['right'] is not None:\n",
    "            walk_matchup_tree(root['right'], x+dx, y+(root['round']-1), dx)\n",
    "\n",
    "    display[3][2] = 'sc'\n",
    "    walk_matchup_tree(matchups['w'], 2, 3, -1)\n",
    "    walk_matchup_tree(matchups['e'], 4, 3, 1)\n",
    "\n",
    "    for y in range(7):\n",
    "        for x in range(7):\n",
    "            id = display[x][y]\n",
    "            if id != '':\n",
    "                matchup = matchups[id]\n",
    "                if matchup['home'] == 0:\n",
    "                    sys.stdout.write('{0:15}'.format(id))\n",
    "                else:\n",
    "                    home = teams[matchup['home']]['info']['abbreviation']\n",
    "                    away = '?'\n",
    "                    if matchup['away'] != 0:\n",
    "                        away = teams[matchup['away']]['info']['abbreviation']\n",
    "                    sys.stdout.write('{0:3}-{2} vs {3}-{1:3}'.format(home,away,matchup['result']['home_win'],matchup['result']['away_win']))\n",
    "            else:\n",
    "                sys.stdout.write('{0:15}'.format(id))\n",
    "        sys.stdout.write('\\n')\n",
    "        \n",
    "display(upd._matchups)"
   ]
  },
  {
   "cell_type": "code",
   "execution_count": 9,
   "metadata": {
    "collapsed": false,
    "jupyter": {
     "outputs_hidden": false
    }
   },
   "outputs": [
    {
     "data": {
      "text/plain": [
       "[('a', 'a1'),\n",
       " ('c', 'c1'),\n",
       " ('e', 'a'),\n",
       " ('m', 'm1'),\n",
       " ('p', 'p1'),\n",
       " ('w', 'c'),\n",
       " ('sc', 'w')]"
      ]
     },
     "execution_count": 9,
     "metadata": {},
     "output_type": "execute_result"
    }
   ],
   "source": [
    "[(matchup['id'],matchup['left']['id']) for matchup in matchups.values() if  matchup['left'] is not None]"
   ]
  },
  {
   "cell_type": "code",
   "execution_count": 10,
   "metadata": {
    "collapsed": false,
    "jupyter": {
     "outputs_hidden": false
    }
   },
   "outputs": [
    {
     "ename": "KeyError",
     "evalue": "'dates'",
     "output_type": "error",
     "traceback": [
      "\u001b[0;31m---------------------------------------------------------------------------\u001b[0m",
      "\u001b[0;31mKeyError\u001b[0m                                  Traceback (most recent call last)",
      "\u001b[0;32m<ipython-input-10-23ab86e3a101>\u001b[0m in \u001b[0;36m<module>\u001b[0;34m()\u001b[0m\n\u001b[0;32m----> 1\u001b[0;31m \u001b[0mupdate_matchups\u001b[0m\u001b[0;34m(\u001b[0m\u001b[0mmatchups\u001b[0m\u001b[0;34m)\u001b[0m\u001b[0;34m\u001b[0m\u001b[0m\n\u001b[0m",
      "\u001b[0;32m<ipython-input-7-27b98bf74ff8>\u001b[0m in \u001b[0;36mupdate_matchups\u001b[0;34m(matchups)\u001b[0m\n\u001b[1;32m    101\u001b[0m     \u001b[0mms\u001b[0m \u001b[0;34m=\u001b[0m \u001b[0msorted\u001b[0m\u001b[0;34m(\u001b[0m\u001b[0mms\u001b[0m\u001b[0;34m,\u001b[0m \u001b[0mkey\u001b[0m\u001b[0;34m=\u001b[0m\u001b[0;32mlambda\u001b[0m \u001b[0mk\u001b[0m\u001b[0;34m:\u001b[0m \u001b[0mk\u001b[0m\u001b[0;34m[\u001b[0m\u001b[0;34m'round'\u001b[0m\u001b[0;34m]\u001b[0m\u001b[0;34m)\u001b[0m\u001b[0;34m\u001b[0m\u001b[0m\n\u001b[1;32m    102\u001b[0m     \u001b[0;32mfor\u001b[0m \u001b[0mmatchup\u001b[0m \u001b[0;32min\u001b[0m \u001b[0mms\u001b[0m\u001b[0;34m:\u001b[0m\u001b[0;34m\u001b[0m\u001b[0m\n\u001b[0;32m--> 103\u001b[0;31m         \u001b[0mupdate_matchup\u001b[0m\u001b[0;34m(\u001b[0m\u001b[0mmatchup\u001b[0m\u001b[0;34m)\u001b[0m\u001b[0;34m\u001b[0m\u001b[0m\n\u001b[0m",
      "\u001b[0;32m<ipython-input-7-27b98bf74ff8>\u001b[0m in \u001b[0;36mupdate_matchup\u001b[0;34m(matchup, home, away)\u001b[0m\n\u001b[1;32m     71\u001b[0m     \u001b[0;32mif\u001b[0m \u001b[0mmatchup\u001b[0m\u001b[0;34m[\u001b[0m\u001b[0;34m'home'\u001b[0m\u001b[0;34m]\u001b[0m \u001b[0;34m!=\u001b[0m \u001b[0;36m0\u001b[0m \u001b[0;32mand\u001b[0m \u001b[0mmatchup\u001b[0m\u001b[0;34m[\u001b[0m\u001b[0;34m'away'\u001b[0m\u001b[0;34m]\u001b[0m \u001b[0;34m!=\u001b[0m \u001b[0;36m0\u001b[0m\u001b[0;34m:\u001b[0m\u001b[0;34m\u001b[0m\u001b[0m\n\u001b[1;32m     72\u001b[0m         \u001b[0;31m#update result and maybe pass to next stage\u001b[0m\u001b[0;34m\u001b[0m\u001b[0;34m\u001b[0m\u001b[0m\n\u001b[0;32m---> 73\u001b[0;31m         \u001b[0mmatchup\u001b[0m\u001b[0;34m[\u001b[0m\u001b[0;34m'schedule'\u001b[0m\u001b[0;34m]\u001b[0m \u001b[0;34m=\u001b[0m \u001b[0mget_matchup_schedule\u001b[0m\u001b[0;34m(\u001b[0m\u001b[0mmatchup\u001b[0m\u001b[0;34m,\u001b[0m \u001b[0myear\u001b[0m\u001b[0;34m)\u001b[0m\u001b[0;34m\u001b[0m\u001b[0m\n\u001b[0m\u001b[1;32m     74\u001b[0m         \u001b[0;32mif\u001b[0m \u001b[0mmatchup\u001b[0m\u001b[0;34m[\u001b[0m\u001b[0;34m'start'\u001b[0m\u001b[0;34m]\u001b[0m \u001b[0;34m==\u001b[0m \u001b[0;34m''\u001b[0m\u001b[0;34m:\u001b[0m\u001b[0;34m\u001b[0m\u001b[0m\n\u001b[1;32m     75\u001b[0m             \u001b[0mmatchup\u001b[0m\u001b[0;34m[\u001b[0m\u001b[0;34m'start'\u001b[0m\u001b[0;34m]\u001b[0m \u001b[0;34m=\u001b[0m \u001b[0mget_matchup_start\u001b[0m\u001b[0;34m(\u001b[0m\u001b[0mmatchup\u001b[0m\u001b[0;34m)\u001b[0m\u001b[0;34m\u001b[0m\u001b[0m\n",
      "\u001b[0;32m<ipython-input-7-27b98bf74ff8>\u001b[0m in \u001b[0;36mget_matchup_schedule\u001b[0;34m(matchup, year, schedules)\u001b[0m\n\u001b[1;32m     13\u001b[0m     \u001b[0;32mif\u001b[0m \u001b[0mschedules\u001b[0m \u001b[0;32mis\u001b[0m \u001b[0mNone\u001b[0m\u001b[0;34m:\u001b[0m\u001b[0;34m\u001b[0m\u001b[0m\n\u001b[1;32m     14\u001b[0m         \u001b[0ms\u001b[0m \u001b[0;34m=\u001b[0m \u001b[0mget_playoff_schedule\u001b[0m\u001b[0;34m(\u001b[0m\u001b[0mint\u001b[0m\u001b[0;34m(\u001b[0m\u001b[0mhome_id\u001b[0m\u001b[0;34m)\u001b[0m\u001b[0;34m,\u001b[0m \u001b[0myear\u001b[0m\u001b[0;34m)\u001b[0m\u001b[0;34m\u001b[0m\u001b[0m\n\u001b[0;32m---> 15\u001b[0;31m     \u001b[0;32mfor\u001b[0m \u001b[0mdate\u001b[0m \u001b[0;32min\u001b[0m \u001b[0ms\u001b[0m\u001b[0;34m[\u001b[0m\u001b[0;34m'dates'\u001b[0m\u001b[0;34m]\u001b[0m\u001b[0;34m:\u001b[0m\u001b[0;34m\u001b[0m\u001b[0m\n\u001b[0m\u001b[1;32m     16\u001b[0m         \u001b[0mgame\u001b[0m \u001b[0;34m=\u001b[0m \u001b[0mdate\u001b[0m\u001b[0;34m[\u001b[0m\u001b[0;34m'games'\u001b[0m\u001b[0;34m]\u001b[0m\u001b[0;34m[\u001b[0m\u001b[0;36m0\u001b[0m\u001b[0;34m]\u001b[0m\u001b[0;34m\u001b[0m\u001b[0m\n\u001b[1;32m     17\u001b[0m         \u001b[0mgame_home_id\u001b[0m \u001b[0;34m=\u001b[0m \u001b[0mgame\u001b[0m\u001b[0;34m[\u001b[0m\u001b[0;34m'teams'\u001b[0m\u001b[0;34m]\u001b[0m\u001b[0;34m[\u001b[0m\u001b[0;34m'home'\u001b[0m\u001b[0;34m]\u001b[0m\u001b[0;34m[\u001b[0m\u001b[0;34m'team'\u001b[0m\u001b[0;34m]\u001b[0m\u001b[0;34m[\u001b[0m\u001b[0;34m'id'\u001b[0m\u001b[0;34m]\u001b[0m\u001b[0;34m\u001b[0m\u001b[0m\n",
      "\u001b[0;31mKeyError\u001b[0m: 'dates'"
     ]
    }
   ],
   "source": [
    "update_matchups(matchups)"
   ]
  },
  {
   "cell_type": "code",
   "execution_count": 86,
   "metadata": {
    "collapsed": false,
    "jupyter": {
     "outputs_hidden": false
    }
   },
   "outputs": [
    {
     "name": "stdout",
     "output_type": "stream",
     "text": [
      "[('p2',\n",
      "  {u'abbreviation': u'LAK',\n",
      "   u'active': True,\n",
      "   u'conference': {u'id': 5,\n",
      "                   u'link': u'/api/v1/conferences/5',\n",
      "                   u'name': u'Western'},\n",
      "   u'division': {u'id': 15,\n",
      "                 u'link': u'/api/v1/divisions/15',\n",
      "                 u'name': u'Pacific'},\n",
      "   u'firstYearOfPlay': u'1967',\n",
      "   u'franchise': {u'franchiseId': 14,\n",
      "                  u'link': u'/api/v1/franchises/14',\n",
      "                  u'teamName': u'Kings'},\n",
      "   u'franchiseId': 14,\n",
      "   u'id': 26,\n",
      "   u'link': u'/api/v1/teams/26',\n",
      "   u'locationName': u'Los Angeles',\n",
      "   u'name': u'Los Angeles Kings',\n",
      "   u'officialSiteUrl': u'http://www.lakings.com',\n",
      "   u'shortName': u'Los Angeles',\n",
      "   u'teamName': u'Kings',\n",
      "   u'venue': {u'city': u'Los Angeles',\n",
      "              u'name': u'STAPLES Center',\n",
      "              u'timeZone': {u'id': u'America/Los_Angeles', u'offset': -8}}},\n",
      "  u'San Jose Sharks',\n",
      "  {'away_win': 0, 'home_win': 0}),\n",
      " ('p1',\n",
      "  {u'abbreviation': u'ANA',\n",
      "   u'active': True,\n",
      "   u'conference': {u'id': 5,\n",
      "                   u'link': u'/api/v1/conferences/5',\n",
      "                   u'name': u'Western'},\n",
      "   u'division': {u'id': 15,\n",
      "                 u'link': u'/api/v1/divisions/15',\n",
      "                 u'name': u'Pacific'},\n",
      "   u'firstYearOfPlay': u'1993',\n",
      "   u'franchise': {u'franchiseId': 32,\n",
      "                  u'link': u'/api/v1/franchises/32',\n",
      "                  u'teamName': u'Ducks'},\n",
      "   u'franchiseId': 32,\n",
      "   u'id': 24,\n",
      "   u'link': u'/api/v1/teams/24',\n",
      "   u'locationName': u'Anaheim',\n",
      "   u'name': u'Anaheim Ducks',\n",
      "   u'officialSiteUrl': u'http://www.anaheimducks.com',\n",
      "   u'shortName': u'Anaheim',\n",
      "   u'teamName': u'Ducks',\n",
      "   u'venue': {u'city': u'Anaheim',\n",
      "              u'name': u'Honda Center',\n",
      "              u'timeZone': {u'id': u'America/Los_Angeles', u'offset': -8}}},\n",
      "  u'Nashville Predators',\n",
      "  {'away_win': 0, 'home_win': 0}),\n",
      " ('a1',\n",
      "  {u'abbreviation': u'FLA',\n",
      "   u'active': True,\n",
      "   u'conference': {u'id': 6,\n",
      "                   u'link': u'/api/v1/conferences/6',\n",
      "                   u'name': u'Eastern'},\n",
      "   u'division': {u'id': 17,\n",
      "                 u'link': u'/api/v1/divisions/17',\n",
      "                 u'name': u'Atlantic'},\n",
      "   u'firstYearOfPlay': u'1993',\n",
      "   u'franchise': {u'franchiseId': 33,\n",
      "                  u'link': u'/api/v1/franchises/33',\n",
      "                  u'teamName': u'Panthers'},\n",
      "   u'franchiseId': 33,\n",
      "   u'id': 13,\n",
      "   u'link': u'/api/v1/teams/13',\n",
      "   u'locationName': u'Florida',\n",
      "   u'name': u'Florida Panthers',\n",
      "   u'officialSiteUrl': u'http://www.floridapanthers.com',\n",
      "   u'shortName': u'Florida',\n",
      "   u'teamName': u'Panthers',\n",
      "   u'venue': {u'city': u'Sunrise',\n",
      "              u'name': u'BB&T Center',\n",
      "              u'timeZone': {u'id': u'America/New_York', u'offset': -5}}},\n",
      "  u'New York Islanders',\n",
      "  {'away_win': 0, 'home_win': 0}),\n",
      " ('a2',\n",
      "  {u'abbreviation': u'TBL',\n",
      "   u'active': True,\n",
      "   u'conference': {u'id': 6,\n",
      "                   u'link': u'/api/v1/conferences/6',\n",
      "                   u'name': u'Eastern'},\n",
      "   u'division': {u'id': 17,\n",
      "                 u'link': u'/api/v1/divisions/17',\n",
      "                 u'name': u'Atlantic'},\n",
      "   u'firstYearOfPlay': u'1991',\n",
      "   u'franchise': {u'franchiseId': 31,\n",
      "                  u'link': u'/api/v1/franchises/31',\n",
      "                  u'teamName': u'Lightning'},\n",
      "   u'franchiseId': 31,\n",
      "   u'id': 14,\n",
      "   u'link': u'/api/v1/teams/14',\n",
      "   u'locationName': u'Tampa Bay',\n",
      "   u'name': u'Tampa Bay Lightning',\n",
      "   u'officialSiteUrl': u'http://www.tampabaylightning.com',\n",
      "   u'shortName': u'Tampa Bay',\n",
      "   u'teamName': u'Lightning',\n",
      "   u'venue': {u'city': u'Tampa',\n",
      "              u'name': u'Amalie Arena',\n",
      "              u'timeZone': {u'id': u'America/New_York', u'offset': -5}}},\n",
      "  u'Detroit Red Wings',\n",
      "  {'away_win': 0, 'home_win': 0}),\n",
      " ('m1',\n",
      "  {u'abbreviation': u'WSH',\n",
      "   u'active': True,\n",
      "   u'conference': {u'id': 6,\n",
      "                   u'link': u'/api/v1/conferences/6',\n",
      "                   u'name': u'Eastern'},\n",
      "   u'division': {u'id': 18,\n",
      "                 u'link': u'/api/v1/divisions/18',\n",
      "                 u'name': u'Metropolitan'},\n",
      "   u'firstYearOfPlay': u'1974',\n",
      "   u'franchise': {u'franchiseId': 24,\n",
      "                  u'link': u'/api/v1/franchises/24',\n",
      "                  u'teamName': u'Capitals'},\n",
      "   u'franchiseId': 24,\n",
      "   u'id': 15,\n",
      "   u'link': u'/api/v1/teams/15',\n",
      "   u'locationName': u'Washington',\n",
      "   u'name': u'Washington Capitals',\n",
      "   u'officialSiteUrl': u'http://www.washingtoncapitals.com',\n",
      "   u'shortName': u'Washington',\n",
      "   u'teamName': u'Capitals',\n",
      "   u'venue': {u'city': u'Washington',\n",
      "              u'name': u'Verizon Center',\n",
      "              u'timeZone': {u'id': u'America/New_York', u'offset': -5}}},\n",
      "  u'Philadelphia Flyers',\n",
      "  {'away_win': 0, 'home_win': 0}),\n",
      " ('m2',\n",
      "  {u'abbreviation': u'PIT',\n",
      "   u'active': True,\n",
      "   u'conference': {u'id': 6,\n",
      "                   u'link': u'/api/v1/conferences/6',\n",
      "                   u'name': u'Eastern'},\n",
      "   u'division': {u'id': 18,\n",
      "                 u'link': u'/api/v1/divisions/18',\n",
      "                 u'name': u'Metropolitan'},\n",
      "   u'firstYearOfPlay': u'1967',\n",
      "   u'franchise': {u'franchiseId': 17,\n",
      "                  u'link': u'/api/v1/franchises/17',\n",
      "                  u'teamName': u'Penguins'},\n",
      "   u'franchiseId': 17,\n",
      "   u'id': 5,\n",
      "   u'link': u'/api/v1/teams/5',\n",
      "   u'locationName': u'Pittsburgh',\n",
      "   u'name': u'Pittsburgh Penguins',\n",
      "   u'officialSiteUrl': u'http://www.pittsburghpenguins.com',\n",
      "   u'shortName': u'Pittsburgh',\n",
      "   u'teamName': u'Penguins',\n",
      "   u'venue': {u'city': u'Pittsburgh',\n",
      "              u'name': u'CONSOL Energy Center',\n",
      "              u'timeZone': {u'id': u'America/New_York', u'offset': -5}}},\n",
      "  u'New York Rangers',\n",
      "  {'away_win': 0, 'home_win': 0}),\n",
      " ('c2',\n",
      "  {u'abbreviation': u'STL',\n",
      "   u'active': True,\n",
      "   u'conference': {u'id': 5,\n",
      "                   u'link': u'/api/v1/conferences/5',\n",
      "                   u'name': u'Western'},\n",
      "   u'division': {u'id': 16,\n",
      "                 u'link': u'/api/v1/divisions/16',\n",
      "                 u'name': u'Central'},\n",
      "   u'firstYearOfPlay': u'1967',\n",
      "   u'franchise': {u'franchiseId': 18,\n",
      "                  u'link': u'/api/v1/franchises/18',\n",
      "                  u'teamName': u'Blues'},\n",
      "   u'franchiseId': 18,\n",
      "   u'id': 19,\n",
      "   u'link': u'/api/v1/teams/19',\n",
      "   u'locationName': u'St. Louis',\n",
      "   u'name': u'St. Louis Blues',\n",
      "   u'officialSiteUrl': u'http://www.stlouisblues.com',\n",
      "   u'shortName': u'St Louis',\n",
      "   u'teamName': u'Blues',\n",
      "   u'venue': {u'city': u'St. Louis',\n",
      "              u'name': u'Scottrade Center',\n",
      "              u'timeZone': {u'id': u'America/Chicago', u'offset': -6}}},\n",
      "  u'Chicago Blackhawks',\n",
      "  {'away_win': 0, 'home_win': 0}),\n",
      " ('c1',\n",
      "  {u'abbreviation': u'DAL',\n",
      "   u'active': True,\n",
      "   u'conference': {u'id': 5,\n",
      "                   u'link': u'/api/v1/conferences/5',\n",
      "                   u'name': u'Western'},\n",
      "   u'division': {u'id': 16,\n",
      "                 u'link': u'/api/v1/divisions/16',\n",
      "                 u'name': u'Central'},\n",
      "   u'firstYearOfPlay': u'1967',\n",
      "   u'franchise': {u'franchiseId': 15,\n",
      "                  u'link': u'/api/v1/franchises/15',\n",
      "                  u'teamName': u'Stars'},\n",
      "   u'franchiseId': 15,\n",
      "   u'id': 25,\n",
      "   u'link': u'/api/v1/teams/25',\n",
      "   u'locationName': u'Dallas',\n",
      "   u'name': u'Dallas Stars',\n",
      "   u'officialSiteUrl': u'http://www.dallasstars.com',\n",
      "   u'shortName': u'Dallas',\n",
      "   u'teamName': u'Stars',\n",
      "   u'venue': {u'city': u'Dallas',\n",
      "              u'name': u'American Airlines Center',\n",
      "              u'timeZone': {u'id': u'America/Chicago', u'offset': -6}}},\n",
      "  u'Minnesota Wild',\n",
      "  {'away_win': 0, 'home_win': 0})]\n"
     ]
    }
   ],
   "source": [
    "pprint.pprint([(matchup['id'], teams[matchup['home']]['info'], teams[matchup['away']]['info']['name'], matchup['result']) for matchup in matchups.values() if matchup['home'] != 0 and matchup['away'] != 0])"
   ]
  },
  {
   "cell_type": "code",
   "execution_count": 6,
   "metadata": {
    "collapsed": false,
    "jupyter": {
     "outputs_hidden": false
    }
   },
   "outputs": [],
   "source": [
    "class Updater(object):\n",
    "    \n",
    "    def __init__(self, server, year):\n",
    "        self._server = server\n",
    "        self._year = year\n",
    "        self._current_round = 0\n",
    "        self._teams = {}\n",
    "        self._matchups = {}\n",
    "        self.load()\n",
    "    \n",
    "    def run(self):\n",
    "        if self._current_round == 0:\n",
    "            self._teams = self.get_teams()\n",
    "            standings = self.get_standings(list(self._teams.values()))\n",
    "            print(standings)\n",
    "            self._matchups = self.create_matchups_tree()\n",
    "            self.create_matchups(standings)\n",
    "            if self.is_season_finished():\n",
    "                self._current_round = 1\n",
    "                self.store()\n",
    "        else:\n",
    "            self.update_matchups()\n",
    "            self.store()\n",
    "\n",
    "    def is_season_finished(self):\n",
    "        for team in list(self._teams.values()):\n",
    "            remaining = 82 - team['standings']['gamesPlayed']\n",
    "            if remaining > 0:\n",
    "                return False\n",
    "        return True\n",
    "\n",
    "    def create_matchups(self, standings):     \n",
    "        ealeader = standings['Eastern']['Atlantic'][0]\n",
    "        emleader = standings['Eastern']['Metropolitan'][0]\n",
    "        wcleader = standings['Western']['Central'][0]\n",
    "        wpleader = standings['Western']['Pacific'][0]\n",
    "        for team in standings['Eastern']['teams']:\n",
    "            if int(team['standings']['wildCardRank']) == 1:\n",
    "                e1wild = team\n",
    "            if int(team['standings']['wildCardRank']) == 2:\n",
    "                e2wild = team\n",
    "\n",
    "        for team in standings['Western']['teams']:\n",
    "            if int(team['standings']['wildCardRank']) == 1:\n",
    "                w1wild = team\n",
    "            if int(team['standings']['wildCardRank']) == 2:\n",
    "                w2wild = team\n",
    "\n",
    "        a1 = self._matchups['a1']\n",
    "        m1 = self._matchups['m1']\n",
    "        self.update_matchup(a1, ealeader['info']['id'])\n",
    "        self.update_matchup(m1, emleader['info']['id'])\n",
    "        if int(ealeader['standings']['conferenceRank']) < int(emleader['standings']['conferenceRank']):\n",
    "            self.update_matchup(a1, e2wild['info']['id'])\n",
    "            self.update_matchup(m1, e1wild['info']['id'])\n",
    "        else:\n",
    "            self.update_matchup(a1, e1wild['info']['id'])\n",
    "            self.update_matchup(m1, e2wild['info']['id'])\n",
    "\n",
    "        a2 = self._matchups['a2']\n",
    "        self.update_matchup(a2, standings['Eastern']['Atlantic'][1]['info']['id'], standings['Eastern']['Atlantic'][2]['info']['id'])\n",
    "        m2 = self._matchups['m2']\n",
    "        self.update_matchup(m2, standings['Eastern']['Metropolitan'][1]['info']['id'], standings['Eastern']['Metropolitan'][2]['info']['id'])\n",
    "\n",
    "        c1 = self._matchups['c1']\n",
    "        p1 = self._matchups['p1']\n",
    "        self.update_matchup(c1, wcleader['info']['id'])\n",
    "        self.update_matchup(p1, wpleader['info']['id'])\n",
    "        if int(wcleader['standings']['conferenceRank']) < int(wpleader['standings']['conferenceRank']):\n",
    "            self.update_matchup(c1, w2wild['info']['id'])\n",
    "            self.update_matchup(p1, w1wild['info']['id'])\n",
    "        else:\n",
    "            self.update_matchup(c1, w1wild['info']['id'])\n",
    "            self.update_matchup(p1, w2wild['info']['id'])\n",
    "\n",
    "        c2 = self._matchups['c2']\n",
    "        self.update_matchup(c2, standings['Western']['Central'][1]['info']['id'], standings['Western']['Central'][2]['info']['id'])\n",
    "        p2 = self._matchups['p2']\n",
    "        self.update_matchup(p2, standings['Western']['Pacific'][1]['info']['id'], standings['Western']['Pacific'][2]['info']['id'])\n",
    "        \n",
    "    def set_matchup_childs(self, matchup, right, left):\n",
    "        matchup['left'] = left\n",
    "        matchup['right'] = right\n",
    "\n",
    "    def create_matchup(self, id, round, next):\n",
    "        matchup = {'id': id, 'home':0, 'away':0, 'round':round, 'start':'', 'result':{}, 'schedule':[], 'season':{}, 'next': next}\n",
    "        matchup['left'] = None\n",
    "        matchup['right'] = None\n",
    "        matchup['result'] = {'home_win':0, 'away_win':0}\n",
    "        return matchup\n",
    "\n",
    "    def create_matchups_tree(self):\n",
    "        matchups = {}\n",
    "        sc = self.create_matchup('sc', 4, None)\n",
    "        matchups[sc['id']] = sc\n",
    "\n",
    "        e = self.create_matchup('e', 3, sc)\n",
    "        w = self.create_matchup('w', 3, sc)\n",
    "        matchups[e['id']] = e\n",
    "        matchups[w['id']] = w\n",
    "\n",
    "        a = self.create_matchup('a', 2, e)\n",
    "        m = self.create_matchup('m', 2, e)\n",
    "        c = self.create_matchup('c', 2, w)\n",
    "        p = self.create_matchup('p', 2, w)\n",
    "        matchups[a['id']] = a\n",
    "        matchups[m['id']] = m\n",
    "        matchups[c['id']] = c\n",
    "        matchups[p['id']] = p\n",
    "\n",
    "        a1 = self.create_matchup('a1', 1, a)\n",
    "        a2 = self.create_matchup('a2', 1, a)\n",
    "        m1 = self.create_matchup('m1', 1, m)\n",
    "        m2 = self.create_matchup('m2', 1, m)\n",
    "        c1 = self.create_matchup('c1', 1, c)\n",
    "        c2 = self.create_matchup('c2', 1, c)\n",
    "        p1 = self.create_matchup('p1', 1, p)\n",
    "        p2 = self.create_matchup('p2', 1, p)\n",
    "        matchups[a1['id']] = a1\n",
    "        matchups[a2['id']] = a2\n",
    "        matchups[m1['id']] = m1\n",
    "        matchups[m2['id']] = m2\n",
    "        matchups[c1['id']] = c1\n",
    "        matchups[c2['id']] = c2\n",
    "        matchups[p1['id']] = p1\n",
    "        matchups[p2['id']] = p2\n",
    "\n",
    "        #build tree\n",
    "        self.set_matchup_childs(sc, e, w)\n",
    "\n",
    "        self.set_matchup_childs(w, p, c)\n",
    "        self.set_matchup_childs(e, m, a)\n",
    "\n",
    "        self.set_matchup_childs(c, c2, c1)\n",
    "        self.set_matchup_childs(p, p2, p1)\n",
    "        self.set_matchup_childs(a, a2, a1)\n",
    "        self.set_matchup_childs(m, m2, m1)\n",
    "\n",
    "        return matchups\n",
    "\n",
    "    def get_team(self, id):\n",
    "        url = 'https://statsapi.web.nhl.com/api/v1/teams/' + str(id)\n",
    "        print(url)\n",
    "        team = requests.get(url).json()\n",
    "        return team['teams'][0]\n",
    "\n",
    "    def get_teams(self):\n",
    "        ystr = str(self._year) + str(self._year+1)\n",
    "        url = 'https://statsapi.web.nhl.com/api/v1/standings?season=' + ystr\n",
    "        print(url)\n",
    "        standings = requests.get(url).json()\n",
    "        teams = {}\n",
    "        for record in standings[\"records\"]:\n",
    "            for team in record['teamRecords']:\n",
    "                info = self.get_team(team['team']['id'])\n",
    "                team_record = {'info':info, 'standings':team, 'schedule':[]}\n",
    "                teams[team['team']['id']] = team_record\n",
    "        return teams\n",
    "\n",
    "    def get_standings(self, teams):\n",
    "        standings = {'Eastern':{'Atlantic':[], 'Metropolitan':[], 'teams':[]},\n",
    "                     'Western':{'Central':[], 'Pacific':[], 'teams':[]},\n",
    "                     'teams':[]}\n",
    "\n",
    "        league = sorted(teams, key=lambda k: int(k['standings']['divisionRank']))\n",
    "        for team in league:\n",
    "            standings['teams'].append(team)\n",
    "            standings[team['info']['conference']['name']]['teams'].append(team)\n",
    "            standings[team['info']['conference']['name']][team['info']['division']['name']].append(team)\n",
    "        standings['teams'] = sorted(standings['teams'], key=lambda k: int(k['standings']['leagueRank']))\n",
    "\n",
    "        standings['Eastern']['teams'] = sorted(standings['Eastern']['teams'], key=lambda k: int(k['standings']['conferenceRank']))\n",
    "        standings['Western']['teams'] = sorted(standings['Western']['teams'], key=lambda k: int(k['standings']['conferenceRank']))\n",
    "\n",
    "        standings['Eastern']['Atlantic'] = sorted(standings['Eastern']['Atlantic'], key=lambda k: int(k['standings']['divisionRank']))\n",
    "        standings['Eastern']['Metropolitan'] = sorted(standings['Eastern']['Metropolitan'], key=lambda k: int(k['standings']['divisionRank']))\n",
    "        standings['Western']['Central'] = sorted(standings['Western']['Central'], key=lambda k: int(k['standings']['divisionRank']))\n",
    "        standings['Western']['Pacific'] = sorted(standings['Western']['Pacific'], key=lambda k: int(k['standings']['divisionRank']))\n",
    "\n",
    "        return standings\n",
    "\n",
    "    def parse_time(self, timestamp):\n",
    "        from_zone = tz.gettz('UTC')\n",
    "        to_zone = tz.gettz('America/New_York')\n",
    "        utc = datetime.strptime(timestamp, '%Y-%m-%dT%H:%M:%SZ')\n",
    "        utc = utc.replace(tzinfo=from_zone)\n",
    "        return utc.astimezone(to_zone)\n",
    "\n",
    "    def get_matchup_schedule(self, matchup, schedules=None):\n",
    "        home_id = matchup['home']\n",
    "        away_id = matchup['away']\n",
    "        result = []\n",
    "        s = schedules\n",
    "        if schedules is None:\n",
    "            s = get_playoff_schedule(int(home_id), year)\n",
    "        for date in s['dates']:\n",
    "            game = date['games'][0]\n",
    "            game_home_id = game['teams']['home']['team']['id']\n",
    "            game_away_id = game['teams']['away']['team']['id']\n",
    "            if game['gameType'] == 'P':\n",
    "                if game_home_id == away_id or game_away_id == away_id:\n",
    "                    result.append(game)\n",
    "        result = sorted(result, key=lambda k: parse_time(k['gameDate']))\n",
    "        return result\n",
    "\n",
    "    def get_matchup_start(self, matchup):\n",
    "        if len(matchup['schedule']) == 0:\n",
    "            return ''\n",
    "        return matchup['schedule'][0]['gameDate']\n",
    "\n",
    "    def get_matchup_season_result(self, home, away):\n",
    "        result = {'home_win':0, 'away_win':0, 'matchs':[]}\n",
    "        schedule = self._teams[home]['schedule']\n",
    "        if len(schedule) == 0:\n",
    "            schedule = self.get_schedule(home)\n",
    "            self._teams[home]['schedule'] = schedule\n",
    "\n",
    "        for date in schedule['dates']:\n",
    "            game = date['games'][0]\n",
    "            game_home_id = game['teams']['home']['team']['id']\n",
    "            game_away_id = game['teams']['away']['team']['id']\n",
    "            if game_home_id == away:\n",
    "                print(game['gameDate'],game['teams']['away']['score'],game['teams']['home']['score'])\n",
    "                if int(game['teams']['home']['score']) > int(game['teams']['away']['score']):\n",
    "                    result['away_win'] = result['away_win'] + 1\n",
    "                elif int(game['teams']['home']['score']) < int(game['teams']['away']['score']):\n",
    "                    result['home_win'] = result['home_win'] + 1\n",
    "                result['matchs'].append({'home': int(game['teams']['away']['score']), 'away': int(game['teams']['home']['score'])})\n",
    "            if game_away_id == away:\n",
    "                print(game['gameDate'],game['teams']['home']['score'],game['teams']['away']['score'])\n",
    "                if int(game['teams']['home']['score']) > int(game['teams']['away']['score']):\n",
    "                    result['home_win'] = result['home_win'] + 1\n",
    "                elif int(game['teams']['home']['score']) < int(game['teams']['away']['score']):\n",
    "                    result['away_win'] = result['away_win'] + 1\n",
    "                result['matchs'].append({'home': int(game['teams']['home']['score']), 'away': int(game['teams']['away']['score'])})\n",
    "        return result\n",
    "    \n",
    "    def get_matchup_result(self, matchup):\n",
    "        result = {}\n",
    "        home_id = matchup['home']\n",
    "        away_id = matchup['away']\n",
    "        home_win = 0\n",
    "        away_win = 0\n",
    "        for game in matchup['schedule']:\n",
    "            game_home_id = game['teams']['home']['team']['id']\n",
    "            game_away_id = game['teams']['away']['team']['id']\n",
    "            if game['gameType'] == 'P':\n",
    "                if game_home_id == away_id or game_away_id == away_id:\n",
    "                    if game_home_id == away_id: #reverse\n",
    "                        away_score = game['teams']['home']['score']\n",
    "                        home_score = game['teams']['away']['score']\n",
    "                    else:\n",
    "                        away_score = game['teams']['away']['score']\n",
    "                        home_score = game['teams']['home']['score']\n",
    "                    if home_score > away_score:\n",
    "                        home_win = home_win + 1\n",
    "                    elif home_score < away_score:\n",
    "                        away_win = away_win + 1\n",
    "                    #print(match['home']['team']['name'], home_score, match['away']['team']['name'], away_score)\n",
    "                    #print(game['teams']['home']['team']['name'],game['teams']['home']['score'],match['away']['team']['name'],game['teams']['away']['score'])\n",
    "        result['home_win'] = home_win\n",
    "        result['away_win'] = away_win\n",
    "        return result\n",
    "\n",
    "    def is_matchup_finished(self, matchup):\n",
    "        return matchup['result']['home_win'] == 4 or matchup['result']['away_win'] == 4\n",
    "\n",
    "    def get_matchup_winner(self, matchup):\n",
    "        if matchup['result']['home_win'] == 4:\n",
    "            return matchup['home']\n",
    "        if matchup['result']['away_win'] == 4:\n",
    "            return matchup['away']\n",
    "        return 0\n",
    "\n",
    "    def update_matchup(self, matchup, home=0, away=0):\n",
    "        if is_matchup_finished(matchup):\n",
    "            return\n",
    "\n",
    "        if matchup['home'] != 0 and matchup['away'] != 0:\n",
    "            #update result and maybe pass to next stage\n",
    "            matchup['schedule'] = get_matchup_schedule(matchup, year)\n",
    "            if matchup['start'] == '':\n",
    "                matchup['start'] = get_matchup_start(matchup)\n",
    "            matchup['result'] = get_matchup_result(matchup)\n",
    "            if is_matchup_finished(matchup) and matchup['next'] is not None:\n",
    "                print('Finished',matchup['id'])\n",
    "                update_matchup(matchup['next'], get_matchup_winner(matchup))\n",
    "        else:\n",
    "            if matchup['home'] == 0:\n",
    "                matchup['home'] = home\n",
    "                matchup['away'] = away\n",
    "            else:\n",
    "                matchup['away'] = home\n",
    "\n",
    "            if matchup['home'] != 0 and matchup['away'] != 0:\n",
    "                #Begin matchup\n",
    "                hi = teams[matchup['home']]\n",
    "                ai = teams[matchup['away']]\n",
    "                if int(hi['standings']['leagueRank']) > int(ai['standings']['leagueRank']): \n",
    "                    matchup['home'] = ai['info']['id']\n",
    "                    matchup['away'] = hi['info']['id']\n",
    "                hi = teams[matchup['home']]\n",
    "                ai = teams[matchup['away']]\n",
    "                matchup['season'] = self.get_matchup_season_result(matchup['home'], matchup['away'])\n",
    "                matchup['schedule'] = get_matchup_schedule(matchup, year)\n",
    "                matchup['start'] = get_matchup_start(matchup)\n",
    "\n",
    "    def update_matchups(self):\n",
    "        ms = list(self._matchups.values())\n",
    "        ms = sorted(ms, key=lambda k: k['round'])\n",
    "        for matchup in ms:\n",
    "            self.update_matchup(matchup)\n",
    "\n",
    "    def get_schedule(self, team):\n",
    "        print('Get schedule for ' + str(team))\n",
    "        url = 'https://statsapi.web.nhl.com/api/v1/schedule?startDate=' + str(self._year) + '-10-01&endDate=' + str(self._year+1) + '-06-29&expand=schedule.teams,schedule.linescore,schedule.broadcasts,schedule.ticket,schedule.game.content.media.epg&leaderCategories=&site=en_nhlCA&teamId=' + str(team)\n",
    "        team_schedule = requests.get(url)\n",
    "        return team_schedule.json()\n",
    "\n",
    "    def get_playoff_schedule(self, team):\n",
    "        url = 'https://statsapi.web.nhl.com/api/v1/schedule?startDate=' + str(self._year+1) + '-04-01&endDate=' + str(self._year+1) + '-06-29&expand=schedule.teams,&site=en_nhlCA&teamId=' + str(team)\n",
    "        team_schedule = requests.get(url)\n",
    "        return team_schedule.json()\n",
    "\n",
    "    def fetch_data(self):\n",
    "        data = requests.get('http://' + self._server + '/nhlplayoffs/api/v3.0/' + str(self._year) + '/data').json()\n",
    "        return data\n",
    "\n",
    "    def update_data(self, data):\n",
    "        url = 'http://' + self._server + '/nhlplayoffs/api/v3.0/' + str(self._year) + '/data'\n",
    "        headers = {'content-type': 'application/json'}\n",
    "        requests.post(url, data = json.dumps(data), headers=headers)\n",
    "    \n",
    "    def build_matchup_tree(self, raw_matchups):\n",
    "        matchups = {}\n",
    "        for matchup_raw in list(raw_matchups.values()):\n",
    "            matchup = matchup_raw.copy()\n",
    "            matchups[matchup['id']] = matchup\n",
    "        \n",
    "        for matchup in list(matchups.values()):\n",
    "            next = matchup['next']\n",
    "            right = matchup['right']\n",
    "            left = matchup['left']\n",
    "            if next in raw_matchups:\n",
    "                matchup['next'] = matchups[next]\n",
    "            if right in raw_matchups:\n",
    "                matchup['right'] = matchups[right]\n",
    "            if left in raw_matchups:\n",
    "                matchup['left'] = matchups[left]\n",
    "        return matchups\n",
    "\n",
    "    def store_matchup_tree(self, matchups):\n",
    "        raw_matchups = {}\n",
    "        for matchup in list(matchups.values()):\n",
    "            raw_matchup = matchup.copy()\n",
    "            if matchup['next'] is not None:\n",
    "                raw_matchup['next'] = matchup['next']['id']\n",
    "            if matchup['right'] is not None:\n",
    "                raw_matchup['right'] = matchup['right']['id']\n",
    "            if matchup['left'] is not None:\n",
    "                raw_matchup['left'] = matchup['left']['id']\n",
    "            raw_matchups[raw_matchup['id']] = raw_matchup \n",
    "        return raw_matchups\n",
    "        \n",
    "    def load(self):\n",
    "        data = self.fetch_data()\n",
    "        self._teams = data['teams']\n",
    "        self._current_round = data['current_round']\n",
    "        self._matchups = self.build_matchup_tree(data['matchups'])\n",
    "        \n",
    "    def store(self):\n",
    "        data = {}\n",
    "        data['teams'] = self._teams\n",
    "        data['current_round'] = self._current_round\n",
    "        data['matchups'] = self.store_matchup_tree(self._matchups)\n",
    "        self.update_data(data)\n",
    "        "
   ]
  },
  {
   "cell_type": "code",
   "execution_count": 7,
   "metadata": {
    "collapsed": false,
    "jupyter": {
     "outputs_hidden": false
    }
   },
   "outputs": [
    {
     "name": "stdout",
     "output_type": "stream",
     "text": [
      "https://statsapi.web.nhl.com/api/v1/standings?season=20162017\n",
      "{'teams': [], 'Western': {'Central': [], 'Pacific': [], 'teams': []}, 'Eastern': {'Atlantic': [], 'Metropolitan': [], 'teams': []}}\n"
     ]
    },
    {
     "ename": "IndexError",
     "evalue": "list index out of range",
     "output_type": "error",
     "traceback": [
      "\u001b[0;31m---------------------------------------------------------------------------\u001b[0m",
      "\u001b[0;31mIndexError\u001b[0m                                Traceback (most recent call last)",
      "\u001b[0;32m<ipython-input-7-311e943f86aa>\u001b[0m in \u001b[0;36m<module>\u001b[0;34m()\u001b[0m\n\u001b[1;32m      1\u001b[0m \u001b[0mupd\u001b[0m \u001b[0;34m=\u001b[0m \u001b[0mUpdater\u001b[0m\u001b[0;34m(\u001b[0m\u001b[0;34m'localhost:5000'\u001b[0m\u001b[0;34m,\u001b[0m \u001b[0;36m2016\u001b[0m\u001b[0;34m)\u001b[0m\u001b[0;34m\u001b[0m\u001b[0m\n\u001b[0;32m----> 2\u001b[0;31m \u001b[0mupd\u001b[0m\u001b[0;34m.\u001b[0m\u001b[0mrun\u001b[0m\u001b[0;34m(\u001b[0m\u001b[0;34m)\u001b[0m\u001b[0;34m\u001b[0m\u001b[0m\n\u001b[0m",
      "\u001b[0;32m<ipython-input-6-e09bb75cc376>\u001b[0m in \u001b[0;36mrun\u001b[0;34m(self)\u001b[0m\n\u001b[1;32m     15\u001b[0m             \u001b[0;32mprint\u001b[0m\u001b[0;34m(\u001b[0m\u001b[0mstandings\u001b[0m\u001b[0;34m)\u001b[0m\u001b[0;34m\u001b[0m\u001b[0m\n\u001b[1;32m     16\u001b[0m             \u001b[0mself\u001b[0m\u001b[0;34m.\u001b[0m\u001b[0m_matchups\u001b[0m \u001b[0;34m=\u001b[0m \u001b[0mself\u001b[0m\u001b[0;34m.\u001b[0m\u001b[0mcreate_matchups_tree\u001b[0m\u001b[0;34m(\u001b[0m\u001b[0;34m)\u001b[0m\u001b[0;34m\u001b[0m\u001b[0m\n\u001b[0;32m---> 17\u001b[0;31m             \u001b[0mself\u001b[0m\u001b[0;34m.\u001b[0m\u001b[0mcreate_matchups\u001b[0m\u001b[0;34m(\u001b[0m\u001b[0mstandings\u001b[0m\u001b[0;34m)\u001b[0m\u001b[0;34m\u001b[0m\u001b[0m\n\u001b[0m\u001b[1;32m     18\u001b[0m             \u001b[0;32mif\u001b[0m \u001b[0mself\u001b[0m\u001b[0;34m.\u001b[0m\u001b[0mis_season_finished\u001b[0m\u001b[0;34m(\u001b[0m\u001b[0;34m)\u001b[0m\u001b[0;34m:\u001b[0m\u001b[0;34m\u001b[0m\u001b[0m\n\u001b[1;32m     19\u001b[0m                 \u001b[0mself\u001b[0m\u001b[0;34m.\u001b[0m\u001b[0m_current_round\u001b[0m \u001b[0;34m=\u001b[0m \u001b[0;36m1\u001b[0m\u001b[0;34m\u001b[0m\u001b[0m\n",
      "\u001b[0;32m<ipython-input-6-e09bb75cc376>\u001b[0m in \u001b[0;36mcreate_matchups\u001b[0;34m(self, standings)\u001b[0m\n\u001b[1;32m     31\u001b[0m \u001b[0;34m\u001b[0m\u001b[0m\n\u001b[1;32m     32\u001b[0m     \u001b[0;32mdef\u001b[0m \u001b[0mcreate_matchups\u001b[0m\u001b[0;34m(\u001b[0m\u001b[0mself\u001b[0m\u001b[0;34m,\u001b[0m \u001b[0mstandings\u001b[0m\u001b[0;34m)\u001b[0m\u001b[0;34m:\u001b[0m\u001b[0;34m\u001b[0m\u001b[0m\n\u001b[0;32m---> 33\u001b[0;31m         \u001b[0mealeader\u001b[0m \u001b[0;34m=\u001b[0m \u001b[0mstandings\u001b[0m\u001b[0;34m[\u001b[0m\u001b[0;34m'Eastern'\u001b[0m\u001b[0;34m]\u001b[0m\u001b[0;34m[\u001b[0m\u001b[0;34m'Atlantic'\u001b[0m\u001b[0;34m]\u001b[0m\u001b[0;34m[\u001b[0m\u001b[0;36m0\u001b[0m\u001b[0;34m]\u001b[0m\u001b[0;34m\u001b[0m\u001b[0m\n\u001b[0m\u001b[1;32m     34\u001b[0m         \u001b[0memleader\u001b[0m \u001b[0;34m=\u001b[0m \u001b[0mstandings\u001b[0m\u001b[0;34m[\u001b[0m\u001b[0;34m'Eastern'\u001b[0m\u001b[0;34m]\u001b[0m\u001b[0;34m[\u001b[0m\u001b[0;34m'Metropolitan'\u001b[0m\u001b[0;34m]\u001b[0m\u001b[0;34m[\u001b[0m\u001b[0;36m0\u001b[0m\u001b[0;34m]\u001b[0m\u001b[0;34m\u001b[0m\u001b[0m\n\u001b[1;32m     35\u001b[0m         \u001b[0mwcleader\u001b[0m \u001b[0;34m=\u001b[0m \u001b[0mstandings\u001b[0m\u001b[0;34m[\u001b[0m\u001b[0;34m'Western'\u001b[0m\u001b[0;34m]\u001b[0m\u001b[0;34m[\u001b[0m\u001b[0;34m'Central'\u001b[0m\u001b[0;34m]\u001b[0m\u001b[0;34m[\u001b[0m\u001b[0;36m0\u001b[0m\u001b[0;34m]\u001b[0m\u001b[0;34m\u001b[0m\u001b[0m\n",
      "\u001b[0;31mIndexError\u001b[0m: list index out of range"
     ]
    }
   ],
   "source": [
    "upd = Updater('localhost:5000', 2016)\n",
    "upd.run()"
   ]
  },
  {
   "cell_type": "code",
   "execution_count": 82,
   "metadata": {
    "collapsed": false,
    "jupyter": {
     "outputs_hidden": false
    }
   },
   "outputs": [
    {
     "data": {
      "text/plain": [
       "[]"
      ]
     },
     "execution_count": 82,
     "metadata": {},
     "output_type": "execute_result"
    }
   ],
   "source": [
    "[(matchup['id']) for matchup in t.values() if type(matchup['left']) is str]"
   ]
  },
  {
   "cell_type": "code",
   "execution_count": 41,
   "metadata": {
    "collapsed": false,
    "jupyter": {
     "outputs_hidden": false
    }
   },
   "outputs": [
    {
     "name": "stdout",
     "output_type": "stream",
     "text": [
      "ds\n"
     ]
    }
   ],
   "source": [
    "t=matchups.copy()\n",
    "t['a1']['next'] = 'ds'\n",
    "print(matchups['a1']['next'])"
   ]
  },
  {
   "cell_type": "code",
   "execution_count": 14,
   "metadata": {
    "collapsed": false,
    "jupyter": {
     "outputs_hidden": false
    }
   },
   "outputs": [
    {
     "data": {
      "text/plain": [
       "13"
      ]
     },
     "execution_count": 14,
     "metadata": {},
     "output_type": "execute_result"
    }
   ],
   "source": [
    "upd._matchups['a1']['home']"
   ]
  },
  {
   "cell_type": "code",
   "execution_count": 26,
   "metadata": {
    "collapsed": true,
    "jupyter": {
     "outputs_hidden": true
    }
   },
   "outputs": [],
   "source": [
    "def is_season_finished(self):\n",
    "    for team in list(self._teams.values()):\n",
    "        remaining = 82 - team['standings']['gamesPlayed']\n",
    "        if remaining > 0:\n",
    "            return False\n",
    "    return True"
   ]
  },
  {
   "cell_type": "code",
   "execution_count": 27,
   "metadata": {
    "collapsed": false,
    "jupyter": {
     "outputs_hidden": false
    }
   },
   "outputs": [
    {
     "data": {
      "text/plain": [
       "True"
      ]
     },
     "execution_count": 27,
     "metadata": {},
     "output_type": "execute_result"
    }
   ],
   "source": [
    "is_season_finished(upd)"
   ]
  },
  {
   "cell_type": "code",
   "execution_count": 12,
   "metadata": {
    "collapsed": true,
    "jupyter": {
     "outputs_hidden": true
    }
   },
   "outputs": [],
   "source": [
    "def get_matchup_season_result(self, home, away):\n",
    "        result = {'home_win':0, 'away_win':0, 'matchs':[]}\n",
    "        schedule = self._teams[home]['schedule']\n",
    "        if len(schedule) == 0:\n",
    "            schedule = self.get_schedule(home)\n",
    "            self._teams[home]['schedule'] = schedule\n",
    "\n",
    "        for date in schedule['dates']:\n",
    "            game = date['games'][0]\n",
    "            game_home_id = game['teams']['home']['team']['id']\n",
    "            game_away_id = game['teams']['away']['team']['id']\n",
    "            if game_home_id == away:\n",
    "                print(game['gameDate'],game['teams']['away']['score'],game['teams']['home']['score'])\n",
    "                if int(game['teams']['home']['score']) > int(game['teams']['away']['score']):\n",
    "                    result['away_win'] = result['away_win'] + 1\n",
    "                elif int(game['teams']['home']['score']) < int(game['teams']['away']['score']):\n",
    "                    result['home_win'] = result['home_win'] + 1\n",
    "                result['matchs'].append({'home': int(game['teams']['away']['score']), 'away': int(game['teams']['home']['score'])})\n",
    "            if game_away_id == away:\n",
    "                print(game['gameDate'],game['teams']['home']['score'],game['teams']['away']['score'])\n",
    "                if int(game['teams']['home']['score']) > int(game['teams']['away']['score']):\n",
    "                    result['home_win'] = result['home_win'] + 1\n",
    "                elif int(game['teams']['home']['score']) < int(game['teams']['away']['score']):\n",
    "                    result['away_win'] = result['away_win'] + 1\n",
    "                result['matchs'].append({'home': int(game['teams']['home']['score']), 'away': int(game['teams']['away']['score'])})\n",
    "        return result"
   ]
  },
  {
   "cell_type": "code",
   "execution_count": 15,
   "metadata": {
    "collapsed": false,
    "jupyter": {
     "outputs_hidden": false
    }
   },
   "outputs": [
    {
     "name": "stdout",
     "output_type": "stream",
     "text": [
      "Get schedule for 13\n",
      "(u'2015-11-28T00:30:00Z', 3, 2)\n",
      "(u'2015-12-16T00:00:00Z', 5, 1)\n",
      "(u'2016-03-14T23:00:00Z', 2, 3)\n",
      "(u'2016-04-15T00:00:00Z', 4, 5)\n",
      "(u'2016-04-15T23:30:00Z', 3, 1)\n",
      "(u'2016-04-18T00:00:00Z', 3, 4)\n",
      "(u'2016-04-21T00:00:00Z', 2, 1)\n",
      "(u'2016-04-23T00:00:00Z', 1, 2)\n",
      "(u'2016-04-24T23:00:00Z', 1, 2)\n"
     ]
    }
   ],
   "source": [
    "result = get_matchup_season_result(upd, upd._matchups['a1']['home'], upd._matchups['a1']['away'])"
   ]
  },
  {
   "cell_type": "code",
   "execution_count": null,
   "metadata": {
    "collapsed": false,
    "jupyter": {
     "outputs_hidden": false
    }
   },
   "outputs": [],
   "source": [
    "upd._teams[13]['schedule']"
   ]
  },
  {
   "cell_type": "code",
   "execution_count": 17,
   "metadata": {
    "collapsed": true,
    "jupyter": {
     "outputs_hidden": true
    }
   },
   "outputs": [],
   "source": [
    "upd.store()"
   ]
  },
  {
   "cell_type": "code",
   "execution_count": 17,
   "metadata": {
    "collapsed": true,
    "jupyter": {
     "outputs_hidden": true
    }
   },
   "outputs": [],
   "source": [
    "url = 'https://statsapi.web.nhl.com/api/v1/schedule?startDate=2017-04-01&endDate=2017-06-29&expand=schedule.teams,&site=en_nhlCA&teamId=3'\n",
    "team_schedule = requests.get(url)"
   ]
  },
  {
   "cell_type": "code",
   "execution_count": 18,
   "metadata": {
    "collapsed": false,
    "jupyter": {
     "outputs_hidden": false
    }
   },
   "outputs": [
    {
     "data": {
      "text/plain": [
       "{u'message': u'[v.4.0.M2 Feb 26 2015 08:16:32] Query exception.',\n",
       " u'messageNumber': 1}"
      ]
     },
     "execution_count": 18,
     "metadata": {},
     "output_type": "execute_result"
    }
   ],
   "source": [
    "team_schedule.json()"
   ]
  },
  {
   "cell_type": "code",
   "execution_count": null,
   "metadata": {
    "collapsed": true,
    "jupyter": {
     "outputs_hidden": true
    }
   },
   "outputs": [],
   "source": []
  }
 ],
 "metadata": {
  "kernelspec": {
   "display_name": "Python 3",
   "language": "python",
   "name": "python3"
  },
  "language_info": {
   "codemirror_mode": {
    "name": "ipython",
    "version": 3
   },
   "file_extension": ".py",
   "mimetype": "text/x-python",
   "name": "python",
   "nbconvert_exporter": "python",
   "pygments_lexer": "ipython3",
   "version": "3.7.4"
  }
 },
 "nbformat": 4,
 "nbformat_minor": 4
}
