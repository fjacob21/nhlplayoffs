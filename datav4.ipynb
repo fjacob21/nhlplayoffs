{
 "cells": [
  {
   "cell_type": "code",
   "execution_count": 1,
   "metadata": {
    "collapsed": true
   },
   "outputs": [],
   "source": [
    "import json\n",
    "import sys\n",
    "import requests\n",
    "from datetime import datetime\n",
    "from dateutil import tz\n",
    "from pprint import pprint\n",
    "from collections import namedtuple"
   ]
  },
  {
   "cell_type": "code",
   "execution_count": null,
   "metadata": {
    "collapsed": true
   },
   "outputs": [],
   "source": [
    "TeamVenueRecord = namedtuple('TeamVenueRecord', 'city, name, timezone, address')\n",
    "NHLTeamInfoRecord = namedtuple('NHLTeamInfoRecord', 'conference, division')\n",
    "TeamRecord = namedtuple('TeamRecord', 'id, abbreviation, name, active, city, fullname, creation_year, website, venue league_info')\n",
    "NHLTeamStandingRecord = namedtuple('NHLTeamStandingRecord', 'pts, win, lose, ot, games_played, goals_against, goals_scored, division_rank, conference_rank, wildcard_rank, league_rank')"
   ]
  },
  {
   "cell_type": "code",
   "execution_count": 2,
   "metadata": {
    "collapsed": true
   },
   "outputs": [],
   "source": [
    "class PowerDict(object):\n",
    "    \n",
    "    def __init__(self):\n",
    "        self._data = {}\n",
    "\n",
    "    def keys(self):\n",
    "        return self._data.keys()\n",
    "    \n",
    "    @property\n",
    "    def data(self):\n",
    "        #d = {}\n",
    "        #for k in self._data.keys():\n",
    "        #    if isinstance(self._data[k], PowerDict):\n",
    "        #        d[k] = self._data[k].data\n",
    "        #    else:\n",
    "        #        d[k] = self._data[k]\n",
    "        return self._data\n",
    "\n",
    "    def __getitem__(self, key):\n",
    "        return self._data[key]\n",
    "\n",
    "    def __setitem__(self, key, value):\n",
    "        self._data[key] = value\n",
    "\n",
    "    def __setattr__(self, name, value):\n",
    "        if name != '_data':   \n",
    "            self._data[name] = value\n",
    "        else:\n",
    "            return object.__setattr__(self, name, value)\n",
    "\n",
    "    def __getattr__(self, key):\n",
    "        return self._data[key]\n",
    "    \n",
    "    def __repr__(self):\n",
    "        return self._data.__repr__()\n",
    "    \n",
    "    def __str__(self):\n",
    "        return self._data.__str__()"
   ]
  },
  {
   "cell_type": "code",
   "execution_count": null,
   "metadata": {
    "collapsed": false
   },
   "outputs": [],
   "source": [
    "p = PowerDict()\n",
    "p.test = 45\n",
    "p.test\n",
    "p['test'] = 55\n",
    "p['test']"
   ]
  },
  {
   "cell_type": "code",
   "execution_count": 3,
   "metadata": {
    "collapsed": false
   },
   "outputs": [],
   "source": [
    "class Team(PowerDict):\n",
    "    \n",
    "    def __init__(self, id=0, abbreviation='', name='', fullname='', city='', active=False, creation_year=0, website='', venue=None, league_info=None):\n",
    "        team = {}\n",
    "        team['id'] = id\n",
    "        team['abbreviation'] = abbreviation\n",
    "        team['name'] = name\n",
    "        team['fullname'] = fullname\n",
    "        team['city'] = city\n",
    "        team['active'] = active\n",
    "        team['creation_year'] = creation_year\n",
    "        team['website'] = website\n",
    "        team['venue'] = venue\n",
    "        team['league_info'] = league_info\n",
    "        self._data = team\n",
    "        \n",
    "class TeamVenue(PowerDict):\n",
    "    \n",
    "    def __init__(self, city='', name='', timezone='', address=''):\n",
    "        venue = {}\n",
    "        venue['city'] = city\n",
    "        venue['name'] = name\n",
    "        venue['timezone'] = timezone\n",
    "        venue['address'] = address\n",
    "        self._data = venue\n",
    "\n",
    "class Standing(PowerDict):\n",
    "    \n",
    "    def __init__(self, team_id, pts, win, losses, ot, games_played, goals_against, goals_scored, ranks, extra_info={}):\n",
    "        standing = {}\n",
    "        standing['team_id'] = team_id\n",
    "        standing['pts'] = pts\n",
    "        standing['win'] = win\n",
    "        standing['losses'] = losses\n",
    "        standing['ot'] = ot\n",
    "        standing['games_played'] = games_played\n",
    "        standing['goals_against'] = goals_against\n",
    "        standing['goals_scored'] = goals_scored\n",
    "        standing['ranks'] = ranks\n",
    "        standing['extra_info'] = extra_info\n",
    "        self._data = standing"
   ]
  },
  {
   "cell_type": "code",
   "execution_count": null,
   "metadata": {
    "collapsed": false
   },
   "outputs": [],
   "source": [
    "p = PowerDict()\n",
    "p.test = 12\n",
    "te = Team(1, 'ABC', 'Super ABC', 'City Super ABC', 'City')\n",
    "#print(te.city)\n",
    "te.city = 9\n",
    "te['city'] = 'Test'\n",
    "#print(te.city)\n",
    "#print(te['city'])\n",
    "#print(te)\n",
    "m = Matchup('a1', 1)\n",
    "m['schedule'] = []\n",
    "m.schedule = []\n",
    "m.away = 9\n",
    "print(m)"
   ]
  },
  {
   "cell_type": "code",
   "execution_count": 4,
   "metadata": {
    "collapsed": true
   },
   "outputs": [],
   "source": [
    "class MatchupResult(PowerDict):\n",
    "    \n",
    "    def __init__(self, home_win=0, away_win=0):\n",
    "        results = {}\n",
    "        results['home_win'] = home_win\n",
    "        results['away_win'] = away_win\n",
    "        self._data = results\n",
    "\n",
    "class MatchupSeasonResults(PowerDict):\n",
    "\n",
    "    def __init__(self, home_win, away_win, games=[]):\n",
    "        results = {}\n",
    "        results['home_win'] = home_win\n",
    "        results['away_win'] = away_win\n",
    "        results['games'] = games\n",
    "        self._data = results\n",
    "\n",
    "class Game(PowerDict):\n",
    "    GAME_STATE_SCHEDULED = 1\n",
    "    GAME_STATE_IN_PROGRESS = 2\n",
    "    GAME_STATE_SCHEDULED = 3\n",
    "    GAME_STATE_FINISHED = 4\n",
    "\n",
    "    def __init__(self, home, away, date='', state=GAME_STATE_SCHEDULED, home_goal=0, away_goal=0, extra_data=None):\n",
    "        game = {}\n",
    "        game['home'] = home\n",
    "        game['away'] = away\n",
    "        game['date'] = date\n",
    "        game['state'] = state\n",
    "        game['home_goal'] = home_goal\n",
    "        game['away_goal'] = away_goal\n",
    "        game['extra_data'] = extra_data\n",
    "        self._data = game\n",
    "\n",
    "class Matchup(PowerDict):\n",
    "    \n",
    "    def __init__(self, id, round, home=0, away=0, start='', schedule={}, season_results={}, results=None):\n",
    "        matchup = {}\n",
    "        matchup['id'] = id\n",
    "        matchup['home'] = home\n",
    "        matchup['away'] = away\n",
    "        matchup['round'] = round\n",
    "        matchup['start'] = start\n",
    "        matchup['schedule'] = schedule\n",
    "        matchup['season_results'] = season_results\n",
    "        matchup['results'] = results\n",
    "        self._data = matchup\n",
    "        \n",
    "    @property\n",
    "    def started(self):\n",
    "        return False"
   ]
  },
  {
   "cell_type": "code",
   "execution_count": 5,
   "metadata": {
    "collapsed": true
   },
   "outputs": [],
   "source": [
    "GAME_STATE_SCHEDULED = 1\n",
    "GAME_STATE_IN_PROGRESS = 2\n",
    "GAME_STATE_SCHEDULED = 3\n",
    "GAME_STATE_FINISHED = 4\n",
    "\n",
    "\n",
    "class PoolData(PowerDict):\n",
    "    def __init__(self, year):\n",
    "        self._data = {}\n",
    "        self.year = year\n",
    "        self.teams = []\n",
    "        self.players = []\n",
    "        self.years = []\n",
    "\n",
    "    def create_team(self, id, abbreviation, name, fullname, city, active=False, creation_year=0, website='', venue=None, league_info=None):\n",
    "        return Team(id, abbreviation, name, fullname, city, active, creation_year, website, venue, league_info)\n",
    "\n",
    "    def create_team_venue(self, city, name='', timezone='', address=''):\n",
    "        return TeamVenue(city, name, timezone, address)\n",
    "\n",
    "    def create_standings(self, team_id, pts, win, losses, ot, games_played, goals_against, goals_scored, ranks, extra_info={}):\n",
    "        return Standing(team_id, pts, win, losses, ot, games_played, goals_against, goals_scored, ranks, extra_info)\n",
    "\n",
    "    def create_matchup_results(self, home_win=0, away_win=0):\n",
    "        return MatchupResult(home_win, away_win)\n",
    "\n",
    "    def create_matchup_season_results(self, home_win, away_win, games=[]):\n",
    "        return MatchupSeasonResults(home_win, away_win, games)\n",
    "\n",
    "    def create_matchup_game(self, home, away, date='', state=GAME_STATE_SCHEDULED, home_goal=0, away_goal=0, extra_data=None):\n",
    "        return Game(home, away, date, state, home_goal, away_goal, extra_data)\n",
    "\n",
    "    def create_matchup(self, id, round, home=0, away=0, start='', schedule={}, season_results={}, results=None):\n",
    "        if not results:\n",
    "            results = results = self.create_matchup_results()\n",
    "        return Matchup(id, round, home, away, start, schedule, season_results, results)"
   ]
  },
  {
   "cell_type": "code",
   "execution_count": 6,
   "metadata": {
    "collapsed": true
   },
   "outputs": [],
   "source": [
    "class NHLData(object):\n",
    "    \n",
    "    def __init__(self, year):\n",
    "        self._year = year\n",
    "        self._teams = None\n",
    "        self._standings = None\n",
    "    \n",
    "    def get_team(self, id):\n",
    "        url = 'https://statsapi.web.nhl.com/api/v1/teams/' + str(id)\n",
    "        team = requests.get(url).json()\n",
    "        return team['teams'][0]\n",
    "    \n",
    "    def get_standings(self):\n",
    "        if not self._standings:\n",
    "            ystr = str(self._year) + str(self._year + 1)\n",
    "            url = 'https://statsapi.web.nhl.com/api/v1/standings?season=' + ystr\n",
    "            standings = requests.get(url).json()\n",
    "            self._standings = standings[\"records\"]\n",
    "        return self._standings\n",
    "\n",
    "    def get_schedule(self, team):\n",
    "        print('Get schedule for ' + str(team))\n",
    "        url = 'https://statsapi.web.nhl.com/api/v1/schedule?startDate=' + str(self._year) + '-10-01&endDate=' + str(self._year+1) + '-06-29&expand=schedule.teams,schedule.linescore,schedule.broadcasts,schedule.ticket,schedule.game.content.media.epg&leaderCategories=&site=en_nhlCA&teamId=' + str(team)\n",
    "        team_schedule = requests.get(url)\n",
    "        return team_schedule.json()\n",
    "\n",
    "    def get_playoff_schedule(self, team):\n",
    "        url = 'https://statsapi.web.nhl.com/api/v1/schedule?startDate=' + str(self._year+1) + '-04-01&endDate=' + str(self._year+1) + '-06-29&expand=schedule.teams,&site=en_nhlCA&teamId=' + str(team)\n",
    "        team_schedule = requests.get(url)\n",
    "        return team_schedule.json()\n",
    "\n",
    "    def get_teams(self):\n",
    "        if not self._teams:\n",
    "            standings = self.get_standings()\n",
    "            teams = {}\n",
    "            for record in standings:\n",
    "                for team in record['teamRecords']:\n",
    "                    info = self.get_team(team['team']['id'])\n",
    "                    team_record = {'info': info, 'standings': team, 'schedule': []}\n",
    "                    teams[team['team']['id']] = team_record\n",
    "            self._teams = teams\n",
    "        return self._teams\n",
    "\n",
    "\n",
    "class NHLDataConverter(object):\n",
    "     \n",
    "    def __init__(self, nhl_data, pool_data):\n",
    "        self._nhl_data = nhl_data\n",
    "        self._pool_data = pool_data\n",
    "\n",
    "    def extract_team_info(self, team):\n",
    "        info = {}\n",
    "        info['abbreviation'] = team['abbreviation']\n",
    "        info['name'] = team['teamName']\n",
    "        info['active'] = team['active']\n",
    "        info['city'] = team['locationName']\n",
    "        info['fullname'] = team['name']\n",
    "        info['creation_year'] = team['firstYearOfPlay']\n",
    "        info['website'] = team['officialSiteUrl']\n",
    "        return info\n",
    "        \n",
    "    def extract_team_venue(self, team):\n",
    "        venue_city = team['venue']['city']\n",
    "        venue_name = team['venue']['name']\n",
    "        venue_timezone = team['venue']['timeZone']['id']\n",
    "        return self._pool_data.create_team_venue(venue_city, venue_name, venue_name)\n",
    "\n",
    "    def extract_team_league_info(self, team):\n",
    "        conference_id = team['conference']['id']\n",
    "        conference_name = team['conference']['name']\n",
    "        division_id = team['division']['id']\n",
    "        division_name = team['division']['name']\n",
    "        return self.create_nhl_team_info(conference_id, conference_name, division_id, division_name)\n",
    "\n",
    "    def extract_standing_info(self, team_standing):\n",
    "        info = {}\n",
    "        info['team_id'] = int(team_standing['team']['id'])\n",
    "        info['pts'] = int(team_standing['points'])\n",
    "        info['win'] = int(team_standing['leagueRecord']['wins'])\n",
    "        info['losses'] = int(team_standing['leagueRecord']['losses'])\n",
    "        info['ot'] = int(team_standing['leagueRecord']['ot'])\n",
    "        info['games_played'] = int(team_standing['gamesPlayed'])\n",
    "        info['goals_against'] = int(team_standing['goalsAgainst'])\n",
    "        info['goals_scored'] = int(team_standing['goalsScored'])\n",
    "        return info\n",
    "\n",
    "    def extract_ranks(self, team_standing):\n",
    "        ranks = {}\n",
    "        league_rank = int(team_standing['leagueRank'])\n",
    "        conference_rank = int(team_standing['conferenceRank'])\n",
    "        division_rank = int(team_standing['divisionRank'])\n",
    "        wildCard_rank = int(team_standing['wildCardRank'])\n",
    "        return self.create_nhl_ranks(league_rank, conference_rank, division_rank, wildCard_rank)\n",
    "\n",
    "    def create_nhl_team_info(self, conference_id, conference_name, division_id, division_name):\n",
    "        info = {}\n",
    "        info['conference'] = {'id': conference_id, 'name': conference_name}\n",
    "        info['division'] = {'id': division_id, 'name': division_name}\n",
    "        return info\n",
    "\n",
    "    def create_nhl_ranks(self, league_rank, conference_rank, division_rank, wildCard_rank):\n",
    "        rank = {}\n",
    "        rank['league_rank'] = league_rank\n",
    "        rank['conference_rank'] = conference_rank\n",
    "        rank['division_rank'] = division_rank\n",
    "        rank['wildCard_rank'] = wildCard_rank\n",
    "        return rank\n",
    "\n",
    "    def get_teams(self):\n",
    "        nhl_teams = self._nhl_data.get_teams() \n",
    "        db_teams = {}\n",
    "        for tid in nhl_teams:\n",
    "            t = nhl_teams[tid]['info']\n",
    "            \n",
    "            info = self.extract_team_info(t)\n",
    "            venue = self.extract_team_venue(t)\n",
    "            league_info = self.extract_team_league_info(t)\n",
    "            team = self._pool_data.create_team(tid, info['abbreviation'], info['name'], info['fullname'], \n",
    "                                               info['city'], info['active'], info['creation_year'], \n",
    "                                               info['website'], venue, league_info)\n",
    "            db_teams[tid] = team\n",
    "        return db_teams\n",
    "    \n",
    "    def get_standings(self):\n",
    "        nhl_standings = self._nhl_data.get_standings()\n",
    "        db_standings = {}\n",
    "        for division in nhl_standings:\n",
    "            for team_standing in division['teamRecords']:\n",
    "                info = self.extract_standing_info(team_standing)\n",
    "                ranks = self.extract_ranks(team_standing)\n",
    "                standing = self._pool_data.create_standings(info['team_id'], info['pts'], info['win'], \n",
    "                                            info['losses'], info['ot'], info['games_played'], \n",
    "                                            info['goals_against'], info['goals_scored'], ranks)\n",
    "                db_standings[info['team_id']] = standing\n",
    "        return db_standings\n",
    "\n",
    "    def get_data(self):\n",
    "        data = {}"
   ]
  },
  {
   "cell_type": "code",
   "execution_count": 7,
   "metadata": {
    "collapsed": false,
    "scrolled": true
   },
   "outputs": [],
   "source": [
    "nhl_extractor = NHLDataConverter(NHLData(2016), PoolData(2016))\n",
    "teams = nhl_extractor.get_teams()\n",
    "standings = nhl_extractor.get_standings()"
   ]
  },
  {
   "cell_type": "code",
   "execution_count": null,
   "metadata": {
    "collapsed": true
   },
   "outputs": [],
   "source": []
  },
  {
   "cell_type": "code",
   "execution_count": 8,
   "metadata": {
    "collapsed": true
   },
   "outputs": [],
   "source": [
    "class MatchupTree(object):\n",
    "    STATE_UNITIALIZED = 1\n",
    "    STATE_NOT_STARTED = 2\n",
    "    STATE_STARTED     = 3\n",
    "    STATE_FINISHED    = 4\n",
    "    \n",
    "    def __init__(self):\n",
    "        self._nodes = {}\n",
    "        self._on_matchup_finished = None\n",
    "        self._on_round_finished = None\n",
    "    \n",
    "    def create_node(self, id, round, right=None, left=None, next=None, matchup=None, state=STATE_UNITIALIZED):\n",
    "        self._nodes[id] = MatchupTreeNode(id, round, right, left, next, matchup, state)\n",
    "    \n",
    "    def update_node_state(self, id, state):\n",
    "        self._nodes[id]['state'] = state\n",
    "        \n",
    "    def update_node_links(self, id, right=None, left=None, next=None):\n",
    "        if right:\n",
    "            self._nodes[id]['right'] = right\n",
    "        if left:\n",
    "            self._nodes[id]['left'] = left\n",
    "        if next:\n",
    "            self._nodes[id]['next'] = next\n",
    "    \n",
    "    def get_started_nodes(self):\n",
    "        started = []\n",
    "        for node in self._nodes.values():\n",
    "            if node['state'] == MatchupTree.STATE_STARTED:\n",
    "                started.append(node)\n",
    "        return started\n",
    "\n",
    "    def keys(self):\n",
    "        return self._nodes.keys()\n",
    "\n",
    "    def __getitem__(self, key):\n",
    "        return self._nodes[key]\n",
    "    \n",
    "    def __getattr__(self, key):\n",
    "        return self._nodes[key]\n",
    "    \n",
    "class MatchupTreeNode(PowerDict):\n",
    "\n",
    "    def __init__(self, id, round, right=None, left=None, next=None, matchup=None, state=MatchupTree.STATE_UNITIALIZED):\n",
    "        node = {}\n",
    "        node['id'] = id\n",
    "        node['round'] = round\n",
    "        node['state'] = state\n",
    "        node['right'] = right\n",
    "        node['left'] = left\n",
    "        node['next'] = next\n",
    "        node['matchup'] = matchup\n",
    "        self._data = node"
   ]
  },
  {
   "cell_type": "code",
   "execution_count": null,
   "metadata": {
    "collapsed": true
   },
   "outputs": [],
   "source": [
    "tree = MatchupTree()"
   ]
  },
  {
   "cell_type": "code",
   "execution_count": null,
   "metadata": {
    "collapsed": true
   },
   "outputs": [],
   "source": [
    "#tree.create_node('w1', 1)\n",
    "#tree.w1['state'] = MatchupTree.STATE_STARTED\n",
    "pprint(tree.get_started_nodes())"
   ]
  },
  {
   "cell_type": "code",
   "execution_count": null,
   "metadata": {
    "collapsed": true
   },
   "outputs": [],
   "source": []
  },
  {
   "cell_type": "code",
   "execution_count": 9,
   "metadata": {
    "collapsed": false
   },
   "outputs": [],
   "source": [
    "db_standings = {'Eastern':{'Atlantic':[], 'Metropolitan':[], 'teams':[]},\n",
    "             'Western':{'Central':[], 'Pacific':[], 'teams':[]},\n",
    "             'teams':[]}\n",
    "\n",
    "league = sorted(standings.values(), key=lambda k: int(k.ranks['division_rank']))\n",
    "for team in league:\n",
    "    db_standings['teams'].append(team)\n",
    "    id = team.team_id\n",
    "    team_info = teams[id]\n",
    "    db_standings[team_info.league_info['conference']['name']]['teams'].append(team)\n",
    "    db_standings[team_info.league_info['conference']['name']][team_info.league_info['division']['name']].append(team)\n",
    "db_standings['teams'] = sorted(db_standings['teams'], key=lambda k: int(k.ranks['league_rank']))\n",
    "\n",
    "db_standings['Eastern']['teams'] = sorted(db_standings['Eastern']['teams'], key=lambda k: int(k.ranks['conference_rank']))\n",
    "db_standings['Western']['teams'] = sorted(db_standings['Western']['teams'], key=lambda k: int(k.ranks['conference_rank']))\n",
    "\n",
    "db_standings['Eastern']['Atlantic'] = sorted(db_standings['Eastern']['Atlantic'], key=lambda k: int(k.ranks['division_rank']))\n",
    "db_standings['Eastern']['Metropolitan'] = sorted(db_standings['Eastern']['Metropolitan'], key=lambda k: int(k.ranks['division_rank']))\n",
    "db_standings['Western']['Central'] = sorted(db_standings['Western']['Central'], key=lambda k: int(k.ranks['division_rank']))\n",
    "db_standings['Western']['Pacific'] = sorted(db_standings['Western']['Pacific'], key=lambda k: int(k.ranks['division_rank']))"
   ]
  },
  {
   "cell_type": "code",
   "execution_count": null,
   "metadata": {
    "collapsed": false
   },
   "outputs": [],
   "source": [
    "pprint(standings)"
   ]
  },
  {
   "cell_type": "code",
   "execution_count": null,
   "metadata": {
    "collapsed": true
   },
   "outputs": [],
   "source": [
    "create_matchup('w1', 1, results=create_matchup_result(4,3))"
   ]
  },
  {
   "cell_type": "code",
   "execution_count": 10,
   "metadata": {
    "collapsed": false
   },
   "outputs": [],
   "source": [
    "tree = MatchupTree()\n",
    "tree.create_node('sc', 4, next=None)\n",
    "\n",
    "tree.create_node('e', 3, next=tree.sc)\n",
    "tree.create_node('w', 3, next=tree.sc)\n",
    "\n",
    "tree.create_node('a', 2, next=tree.e)\n",
    "tree.create_node('m', 2, next=tree.e)\n",
    "tree.create_node('c', 2, next=tree.w)\n",
    "tree.create_node('p', 2, next=tree.w)\n",
    "\n",
    "tree.create_node('a1', 1, next=tree.a)\n",
    "tree.create_node('a2', 1, next=tree.a)\n",
    "tree.create_node('m1', 1, next=tree.m)\n",
    "tree.create_node('m2', 1, next=tree.m)\n",
    "tree.create_node('c1', 1, next=tree.c)\n",
    "tree.create_node('c2', 1, next=tree.c)\n",
    "tree.create_node('p1', 1, next=tree.p)\n",
    "tree.create_node('p2', 1, next=tree.p)\n",
    "\n",
    "tree.update_node_links('sc', tree.e, tree.w)\n",
    "\n",
    "tree.update_node_links('w', tree.p, tree.c)\n",
    "tree.update_node_links('e', tree.m, tree.a)\n",
    "\n",
    "tree.update_node_links('c', tree.c2, tree.c1)\n",
    "tree.update_node_links('p', tree.p2, tree.p1)\n",
    "tree.update_node_links('a', tree.a2, tree.a1)\n",
    "tree.update_node_links('m', tree.m2, tree.m1)\n"
   ]
  },
  {
   "cell_type": "code",
   "execution_count": 30,
   "metadata": {
    "collapsed": false
   },
   "outputs": [
    {
     "name": "stdout",
     "output_type": "stream",
     "text": [
      "CHI-0 vs 4-NSH                                                                           MTL-2 vs 4-NYR\n",
      "               STL-2 vs 4-NSH                                             NYR-2 vs 4-OTT               \n",
      "MIN-1 vs 4-STL                              PIT-4 vs 2-NSH                              OTT-4 vs 2-BOS\n",
      "                              ANA-2 vs 4-NSH               PIT-4 vs 3-OTT                              \n",
      "ANA-4 vs 0-CGY                                                                           WSH-4 vs 2-TOR\n",
      "               ANA-4 vs 3-EDM                                             WSH-3 vs 4-PIT               \n",
      "EDM-4 vs 2-SJS                                                                           PIT-4 vs 1-CBJ\n"
     ]
    }
   ],
   "source": [
    "def display(tree):\n",
    "    nb_round = 4\n",
    "    width = (nb_round * 2) - 1\n",
    "    heigh = (2**(nb_round-1)) -1\n",
    "    display = [['' for x in range(width)] for y in range(heigh)] \n",
    "    def walk_matchup_tree(root, x, y, dx):\n",
    "        display[x][y] = root.id\n",
    "        if root.left is not None:\n",
    "            walk_matchup_tree(root.left, x+dx, y-(root.round - 1), dx)\n",
    "        if root.right is not None:\n",
    "            walk_matchup_tree(root.right, x+dx, y+(root.round - 1), dx)\n",
    "\n",
    "    display[3][2] = 'sc'\n",
    "    walk_matchup_tree(tree.w, 2, 3, -1)\n",
    "    walk_matchup_tree(tree.e, 4, 3, 1)\n",
    "\n",
    "    for y in range(7):\n",
    "        for x in range(7):\n",
    "            id = display[x][y]\n",
    "            if id != '':\n",
    "                node = tree[id]\n",
    "                matchup = node.matchup\n",
    "                if not matchup:\n",
    "                    sys.stdout.write('{0:15}'.format(id))\n",
    "                else:\n",
    "                    home = teams[matchup.home].abbreviation\n",
    "                    away = '?'\n",
    "                    if matchup.away != 0:\n",
    "                        away = teams[matchup.away].abbreviation\n",
    "                    sys.stdout.write('{0:3}-{2} vs {3}-{1:3}'.format(home,away,matchup.results.home_win,matchup.results.away_win))\n",
    "            else:\n",
    "                sys.stdout.write('{0:15}'.format(id))\n",
    "        sys.stdout.write('\\n')\n",
    "        \n",
    "display(tree)"
   ]
  },
  {
   "cell_type": "code",
   "execution_count": 12,
   "metadata": {
    "collapsed": false
   },
   "outputs": [],
   "source": [
    "ealeader = db_standings['Eastern']['Atlantic'][0]\n",
    "emleader = db_standings['Eastern']['Metropolitan'][0]\n",
    "wcleader = db_standings['Western']['Central'][0]\n",
    "wpleader = db_standings['Western']['Pacific'][0]\n",
    "for team in db_standings['Eastern']['teams']:\n",
    "    if int(team.ranks['wildCard_rank']) == 1:\n",
    "        e1wild = team\n",
    "    if int(team.ranks['wildCard_rank']) == 2:\n",
    "        e2wild = team\n",
    "\n",
    "for team in db_standings['Western']['teams']:\n",
    "    if int(team.ranks['wildCard_rank']) == 1:\n",
    "        w1wild = team\n",
    "    if int(team.ranks['wildCard_rank']) == 2:\n",
    "        w2wild = team\n",
    "\n",
    "if int(ealeader.ranks['conference_rank']) < int(emleader.ranks['conference_rank']):\n",
    "    tree.a1['matchup'] = nhl_extractor._pool_data.create_matchup('a1', 1, ealeader.team_id, e2wild.team_id)\n",
    "    tree.m1['matchup'] = nhl_extractor._pool_data.create_matchup('m1', 1, emleader.team_id, e1wild.team_id)\n",
    "else:\n",
    "    tree.a1['matchup'] = nhl_extractor._pool_data.create_matchup('a1', 1, ealeader.team_id, e1wild.team_id)\n",
    "    tree.m1['matchup'] = nhl_extractor._pool_data.create_matchup('m1', 1, emleader.team_id, e2wild.team_id)\n",
    "\n",
    "tree.a2['matchup'] = nhl_extractor._pool_data.create_matchup('a2', 1, db_standings['Eastern']['Atlantic'][1].team_id, db_standings['Eastern']['Atlantic'][2].team_id)\n",
    "tree.m2['matchup'] = nhl_extractor._pool_data.create_matchup('m2', 1, db_standings['Eastern']['Metropolitan'][1].team_id, db_standings['Eastern']['Metropolitan'][2].team_id)\n",
    "\n",
    "\n",
    "if int(wcleader.ranks['conference_rank']) < int(wpleader.ranks['conference_rank']):\n",
    "    tree.c1['matchup'] = nhl_extractor._pool_data.create_matchup('c1', 1, wcleader.team_id, w2wild.team_id)\n",
    "    tree.p1['matchup'] = nhl_extractor._pool_data.create_matchup('p1', 1, wpleader.team_id, w1wild.team_id)\n",
    "else:\n",
    "    tree.c1['matchup'] = nhl_extractor._pool_data.create_matchup('c1', 1, wcleader.team_id, w1wild.team_id)\n",
    "    tree.p1['matchup'] = nhl_extractor._pool_data.create_matchup('p1', 1, wpleader.team_id, w2wild.team_id)\n",
    "\n",
    "tree.c2['matchup'] = nhl_extractor._pool_data.create_matchup('c2', 1, db_standings['Western']['Central'][1].team_id, db_standings['Western']['Central'][2].team_id)\n",
    "tree.p2['matchup'] = nhl_extractor._pool_data.create_matchup('p2', 1, db_standings['Western']['Pacific'][1].team_id, db_standings['Western']['Pacific'][2].team_id)\n"
   ]
  },
  {
   "cell_type": "code",
   "execution_count": 13,
   "metadata": {
    "collapsed": true
   },
   "outputs": [],
   "source": [
    "def update_matchup(matchup):\n",
    "    if not matchup['start']:\n",
    "        # initial config\n",
    "        nhl_extractor._nhl_data.get_playoff_schedule(matchup['home'])\n",
    "    else:\n",
    "        nhl_extractor._nhl_data.get_playoff_schedule(matchup['home'])"
   ]
  },
  {
   "cell_type": "code",
   "execution_count": null,
   "metadata": {
    "collapsed": true
   },
   "outputs": [],
   "source": []
  },
  {
   "cell_type": "code",
   "execution_count": 14,
   "metadata": {
    "collapsed": true
   },
   "outputs": [],
   "source": [
    "def extract_matchup_games(matchup):\n",
    "    statuscode = {}\n",
    "    statuscode[1] = GAME_STATE_SCHEDULED # 'Scheduled'\n",
    "    statuscode[2] = GAME_STATE_SCHEDULED # 'Pre-Game'\n",
    "    statuscode[3] = GAME_STATE_IN_PROGRESS # 'In Progress'\n",
    "    statuscode[4] = GAME_STATE_IN_PROGRESS # 'In Progress - Critical'\n",
    "    statuscode[5] = GAME_STATE_IN_PROGRESS # 'Game Over'\n",
    "    statuscode[6] = GAME_STATE_IN_PROGRESS # 'Final'\n",
    "    statuscode[7] = GAME_STATE_FINISHED # 'Final'\n",
    "    schedules = nhl_extractor._nhl_data.get_playoff_schedule(matchup['home'])\n",
    "    games = []\n",
    "    for d in schedules['dates']:\n",
    "        game = d['games'][0]\n",
    "        home = game['teams']['home']['team']['id']\n",
    "        home_score = game['teams']['home']['score']\n",
    "        if game['gameType'] == 'P':\n",
    "            if home != matchup['home']:\n",
    "                away = home\n",
    "                away_score = game['teams']['home']['score']\n",
    "                home = game['teams']['away']['team']['id']\n",
    "                home_score = game['teams']['away']['score']\n",
    "            else:\n",
    "                away = game['teams']['away']['team']['id']\n",
    "                away_score = game['teams']['away']['score']\n",
    "            #print(home, away, matchup['away'])\n",
    "            if away == matchup['away']:\n",
    "                date = game['gameDate']\n",
    "                status = int(game['status']['statusCode'])\n",
    "                pool_game = nhl_extractor._pool_data.create_matchup_game(home, away, date, statuscode[status], home_score, away_score)\n",
    "                games.append(pool_game)\n",
    "                #pprint(game)\n",
    "                # print(status, home, home_score, away, away_score, date)\n",
    "    return games"
   ]
  },
  {
   "cell_type": "code",
   "execution_count": null,
   "metadata": {
    "collapsed": true
   },
   "outputs": [],
   "source": []
  },
  {
   "cell_type": "code",
   "execution_count": 27,
   "metadata": {
    "collapsed": false
   },
   "outputs": [
    {
     "name": "stdout",
     "output_type": "stream",
     "text": [
      "('Update schedule for ', 'sc')\n"
     ]
    }
   ],
   "source": [
    "# Update schedule for active matchup\n",
    "for id in tree.keys():\n",
    "    node = tree[id]\n",
    "    matchup = node.matchup\n",
    "    if matchup and node.state != MatchupTree.STATE_FINISHED:\n",
    "        print('Update schedule for ', id)\n",
    "        matchup.schedule = extract_matchup_games(matchup) "
   ]
  },
  {
   "cell_type": "code",
   "execution_count": 28,
   "metadata": {
    "collapsed": false
   },
   "outputs": [],
   "source": [
    "# Update results for active matchup\n",
    "for id in tree.keys():\n",
    "    matchup = tree[id].matchup\n",
    "    if matchup:\n",
    "        matchup.results.home_win = 0\n",
    "        matchup.results.away_win = 0\n",
    "        for game in matchup.schedule:\n",
    "            if game.state == GAME_STATE_FINISHED:\n",
    "                if game.home_goal > game.away_goal:\n",
    "                    matchup.results.home_win = matchup.results.home_win + 1\n",
    "                elif game.away_goal > game.home_goal:\n",
    "                    matchup.results.away_win = matchup.results.away_win + 1"
   ]
  },
  {
   "cell_type": "code",
   "execution_count": 29,
   "metadata": {
    "collapsed": false
   },
   "outputs": [
    {
     "name": "stdout",
     "output_type": "stream",
     "text": [
      "Penguins Win\n"
     ]
    },
    {
     "ename": "AttributeError",
     "evalue": "'NoneType' object has no attribute 'matchup'",
     "output_type": "error",
     "traceback": [
      "\u001b[0;31m---------------------------------------------------------------------------\u001b[0m",
      "\u001b[0;31mAttributeError\u001b[0m                            Traceback (most recent call last)",
      "\u001b[0;32m<ipython-input-29-ff8a86b0825c>\u001b[0m in \u001b[0;36m<module>\u001b[0;34m()\u001b[0m\n\u001b[1;32m     13\u001b[0m             \u001b[0;32mprint\u001b[0m\u001b[0;34m(\u001b[0m\u001b[0;34m'{0} Win'\u001b[0m\u001b[0;34m.\u001b[0m\u001b[0mformat\u001b[0m\u001b[0;34m(\u001b[0m\u001b[0mteams\u001b[0m\u001b[0;34m[\u001b[0m\u001b[0mwinner\u001b[0m\u001b[0;34m]\u001b[0m\u001b[0;34m.\u001b[0m\u001b[0mname\u001b[0m\u001b[0;34m)\u001b[0m\u001b[0;34m)\u001b[0m\u001b[0;34m\u001b[0m\u001b[0m\n\u001b[1;32m     14\u001b[0m             \u001b[0mnode\u001b[0m\u001b[0;34m.\u001b[0m\u001b[0mstate\u001b[0m \u001b[0;34m=\u001b[0m \u001b[0mMatchupTree\u001b[0m\u001b[0;34m.\u001b[0m\u001b[0mSTATE_FINISHED\u001b[0m\u001b[0;34m\u001b[0m\u001b[0m\n\u001b[0;32m---> 15\u001b[0;31m             \u001b[0;32mif\u001b[0m \u001b[0;32mnot\u001b[0m \u001b[0mnode\u001b[0m\u001b[0;34m.\u001b[0m\u001b[0mnext\u001b[0m\u001b[0;34m.\u001b[0m\u001b[0mmatchup\u001b[0m\u001b[0;34m:\u001b[0m\u001b[0;34m\u001b[0m\u001b[0m\n\u001b[0m\u001b[1;32m     16\u001b[0m                 \u001b[0mnode\u001b[0m\u001b[0;34m.\u001b[0m\u001b[0mnext\u001b[0m\u001b[0;34m.\u001b[0m\u001b[0mmatchup\u001b[0m \u001b[0;34m=\u001b[0m \u001b[0mnhl_extractor\u001b[0m\u001b[0;34m.\u001b[0m\u001b[0m_pool_data\u001b[0m\u001b[0;34m.\u001b[0m\u001b[0mcreate_matchup\u001b[0m\u001b[0;34m(\u001b[0m\u001b[0mnode\u001b[0m\u001b[0;34m.\u001b[0m\u001b[0mnext\u001b[0m\u001b[0;34m.\u001b[0m\u001b[0mid\u001b[0m\u001b[0;34m,\u001b[0m \u001b[0mnode\u001b[0m\u001b[0;34m.\u001b[0m\u001b[0mround\u001b[0m\u001b[0;34m+\u001b[0m\u001b[0;36m1\u001b[0m\u001b[0;34m,\u001b[0m \u001b[0mwinner\u001b[0m\u001b[0;34m)\u001b[0m\u001b[0;34m\u001b[0m\u001b[0m\n\u001b[1;32m     17\u001b[0m             \u001b[0;32melse\u001b[0m\u001b[0;34m:\u001b[0m\u001b[0;34m\u001b[0m\u001b[0m\n",
      "\u001b[0;31mAttributeError\u001b[0m: 'NoneType' object has no attribute 'matchup'"
     ]
    }
   ],
   "source": [
    "# Update status for active matchup\n",
    "for id in tree.keys():\n",
    "    node = tree[id]\n",
    "    matchup = node.matchup\n",
    "    if matchup and node.state != MatchupTree.STATE_FINISHED:\n",
    "        # Detect winner of matchup\n",
    "        winner = 0\n",
    "        if matchup.results.home_win == 4:\n",
    "            winner = matchup.home\n",
    "        elif matchup.results.away_win == 4:\n",
    "            winner = matchup.away\n",
    "        if winner:\n",
    "            print('{0} Win'.format(teams[winner].name))\n",
    "            node.state = MatchupTree.STATE_FINISHED\n",
    "            if not node.next.matchup:\n",
    "                node.next.matchup = nhl_extractor._pool_data.create_matchup(node.next.id, node.round+1, winner)\n",
    "            else:\n",
    "                node.next.matchup.away = winner\n",
    "                # Need to order teams!!!!!!!\n",
    "                home = standings[node.next.matchup.home]\n",
    "                away = standings[node.next.matchup.away]\n",
    "                if away.ranks['conference_rank'] < home.ranks['conference_rank']:\n",
    "                    t = node.next.matchup.home\n",
    "                    node.next.matchup.home = node.next.matchup.away\n",
    "                    node.next.matchup.away = t\n",
    "                    "
   ]
  },
  {
   "cell_type": "code",
   "execution_count": null,
   "metadata": {
    "collapsed": false
   },
   "outputs": [],
   "source": [
    "tjson = json.dumps(teams, cls=PowerDictEncoder)"
   ]
  },
  {
   "cell_type": "code",
   "execution_count": null,
   "metadata": {
    "collapsed": false
   },
   "outputs": [],
   "source": [
    "ltjson = json.loads(tjson, cls=PowerDictDecoder)"
   ]
  },
  {
   "cell_type": "code",
   "execution_count": null,
   "metadata": {
    "collapsed": false
   },
   "outputs": [],
   "source": [
    "ltjson['5'].venue"
   ]
  },
  {
   "cell_type": "code",
   "execution_count": null,
   "metadata": {
    "collapsed": true
   },
   "outputs": [],
   "source": [
    "class PowerDictEncoder(json.JSONEncoder):\n",
    "    def default(self, obj):\n",
    "        if isinstance(obj, PowerDict):\n",
    "            result = obj.data\n",
    "            result['__objectname__'] = type(obj).__name__\n",
    "            return result\n",
    "            # Let the base class default method raise the TypeError\n",
    "        return json.JSONEncoder.default(self, obj)\n",
    "    \n",
    "class PowerDictDecoder(json.JSONDecoder):\n",
    "    def __init__(self, *args, **kwargs):\n",
    "        json.JSONDecoder.__init__(self, object_hook=self.object_hook, *args, **kwargs)\n",
    "\n",
    "    def object_hook(self, obj):\n",
    "        if '__objectname__' not in obj:\n",
    "            return obj\n",
    "        type = obj['__objectname__']\n",
    "        newobj = globals()[type]()\n",
    "        newobj._data = obj\n",
    "        del newobj._data['__objectname__']\n",
    "        return newobj"
   ]
  },
  {
   "cell_type": "code",
   "execution_count": null,
   "metadata": {
    "collapsed": false
   },
   "outputs": [],
   "source": [
    "datestr = \"2017-04-10T00:41:45Z\"\n",
    "from_zone = tz.gettz('UTC')\n",
    "to_zone = tz.gettz('America/New_York')\n",
    "utc = datetime.strptime(datestr, '%Y-%m-%dT%H:%M:%SZ')\n",
    "utc = utc.replace(tzinfo=from_zone)\n",
    "date = utc.astimezone(to_zone)"
   ]
  },
  {
   "cell_type": "code",
   "execution_count": null,
   "metadata": {
    "collapsed": false
   },
   "outputs": [],
   "source": [
    "date.astimezone(from_zone).strftime('%Y-%m-%dT%H:%M:%SZ')\n",
    "#date.strftime('%Y-%m-%dT%H:%M:%S%z')"
   ]
  },
  {
   "cell_type": "code",
   "execution_count": null,
   "metadata": {
    "collapsed": true
   },
   "outputs": [],
   "source": [
    "def now():\n",
    "    to_zone = tz.gettz('America/New_York')\n",
    "    return datetime.now(tz.tzlocal()).astimezone(to_zone)\n",
    "def date(year, month, day, hour=0, minute=0, second=0):\n",
    "    to_zone = tz.gettz('America/New_York')\n",
    "    return datetime(year, month, day, hour, minute, second, tzinfo=to_zone)\n",
    "def date(year, month, day, hour=0, minute=0, second=0):\n",
    "    to_zone = tz.gettz('America/New_York')\n",
    "    return datetime(year, month, day, hour, minute, second, tzinfo=tz.tzlocal()).astimezone(to_zone)"
   ]
  },
  {
   "cell_type": "code",
   "execution_count": null,
   "metadata": {
    "collapsed": false
   },
   "outputs": [],
   "source": [
    "n = now()"
   ]
  },
  {
   "cell_type": "code",
   "execution_count": null,
   "metadata": {
    "collapsed": false
   },
   "outputs": [],
   "source": [
    "d = date(2017, 2, 20, 10, 22, 33)"
   ]
  },
  {
   "cell_type": "code",
   "execution_count": null,
   "metadata": {
    "collapsed": false
   },
   "outputs": [],
   "source": [
    "type(d).__name__"
   ]
  },
  {
   "cell_type": "code",
   "execution_count": null,
   "metadata": {
    "collapsed": false
   },
   "outputs": [],
   "source": [
    "globals()['Team']"
   ]
  },
  {
   "cell_type": "code",
   "execution_count": null,
   "metadata": {
    "collapsed": true
   },
   "outputs": [],
   "source": [
    "t = PoolData(2017)"
   ]
  },
  {
   "cell_type": "code",
   "execution_count": null,
   "metadata": {
    "collapsed": true
   },
   "outputs": [],
   "source": [
    "t.team"
   ]
  },
  {
   "cell_type": "code",
   "execution_count": null,
   "metadata": {
    "collapsed": true
   },
   "outputs": [],
   "source": []
  }
 ],
 "metadata": {
  "kernelspec": {
   "display_name": "Python 2",
   "language": "python",
   "name": "python2"
  },
  "language_info": {
   "codemirror_mode": {
    "name": "ipython",
    "version": 2
   },
   "file_extension": ".py",
   "mimetype": "text/x-python",
   "name": "python",
   "nbconvert_exporter": "python",
   "pygments_lexer": "ipython2",
   "version": "2.7.10"
  }
 },
 "nbformat": 4,
 "nbformat_minor": 1
}
