{
 "cells": [
  {
   "cell_type": "code",
   "execution_count": 1,
   "metadata": {
    "collapsed": false
   },
   "outputs": [],
   "source": [
    "import json\n",
    "import psycopg2\n",
    "\n",
    "_db='fred'\n",
    "_user='fred'\n",
    "_psw='763160'\n",
    "_host='localhost'\n",
    "_port=5432\n"
   ]
  },
  {
   "cell_type": "code",
   "execution_count": null,
   "metadata": {
    "collapsed": true
   },
   "outputs": [],
   "source": [
    "def connect():\n",
    "    con = None\n",
    "    try:\n",
    "        con = psycopg2.connect(database=_db,\n",
    "                               user=_user,\n",
    "                               password=_psw,\n",
    "                               host=_host,\n",
    "                               port=_port)\n",
    "\n",
    "    except psycopg2.DatabaseError, e:\n",
    "        print('Error %s' % e)\n",
    "\n",
    "    return con"
   ]
  },
  {
   "cell_type": "code",
   "execution_count": null,
   "metadata": {
    "collapsed": true
   },
   "outputs": [],
   "source": [
    "def delete_table(table):\n",
    "    con = connect()\n",
    "    if con :\n",
    "        try:\n",
    "            cur = con.cursor()\n",
    "            cur.execute('DROP TABLE ' + table)\n",
    "            con.commit()\n",
    "        except Exception as e:\n",
    "            return False\n",
    "\n",
    "        con.close()\n",
    "        return True\n",
    "    return False"
   ]
  },
  {
   "cell_type": "code",
   "execution_count": null,
   "metadata": {
    "collapsed": false
   },
   "outputs": [],
   "source": [
    "def create_table(table):\n",
    "    con = connect()\n",
    "    if con :\n",
    "        try:\n",
    "            cur = con.cursor()\n",
    "            cur.execute('CREATE TABLE ' + table + '(ID INT PRIMARY KEY NOT NULL, data TEXT NOT NULL)')\n",
    "            con.commit()\n",
    "        except Exception as e:\n",
    "            return False\n",
    "\n",
    "        con.close()\n",
    "        return True\n",
    "    return False\n",
    "\n",
    "print(create_table('test'))\n",
    "print(create_table('test'))\n",
    "print(delete_table('test'))"
   ]
  },
  {
   "cell_type": "code",
   "execution_count": null,
   "metadata": {
    "collapsed": false
   },
   "outputs": [],
   "source": [
    "def table_exist(table):\n",
    "    con = connect()\n",
    "    if con :\n",
    "        try:\n",
    "            cur = con.cursor()\n",
    "            cur.execute(\"SELECT * FROM information_schema.tables WHERE table_name='\" + table + \"';\")\n",
    "        except Exception as e:\n",
    "            return False\n",
    "\n",
    "        con.close()\n",
    "        return bool(cur.rowcount)\n",
    "    return False\n",
    "\n",
    "create_table('test')\n",
    "print(table_exist('toto'))\n",
    "print(table_exist('test'))\n",
    "delete_table('test')"
   ]
  },
  {
   "cell_type": "code",
   "execution_count": null,
   "metadata": {
    "collapsed": false
   },
   "outputs": [],
   "source": [
    "def create_row(table, id, data):\n",
    "    con = connect()\n",
    "    if con :\n",
    "        try:\n",
    "            cur = con.cursor()\n",
    "            cur.execute(\"INSERT INTO \" + table + \"(ID,data) \" + \"VALUES(\"+ str(id) + \", '\"+ json.dumps(data) + \"')\" )\n",
    "            con.commit()\n",
    "        except Exception as e:\n",
    "            print('row',e)\n",
    "            return False\n",
    "\n",
    "        con.close()\n",
    "        return True\n",
    "    return False\n",
    "\n",
    "create_table('test')\n",
    "print(create_row('test', 1, 'toto'))\n",
    "print(create_row('test', 1, 'test'))\n",
    "delete_table('test')"
   ]
  },
  {
   "cell_type": "code",
   "execution_count": null,
   "metadata": {
    "collapsed": true
   },
   "outputs": [],
   "source": [
    "def row_exist(table, id):\n",
    "    con = connect()\n",
    "    if con :\n",
    "        try:\n",
    "            cur = con.cursor()\n",
    "            cur.execute(\"SELECT * FROM \" + table + \" WHERE ID='\" + str(id) + \"';\")\n",
    "        except Exception as e:\n",
    "            return False\n",
    "\n",
    "        con.close()\n",
    "        return bool(cur.rowcount)\n",
    "    return False"
   ]
  },
  {
   "cell_type": "code",
   "execution_count": null,
   "metadata": {
    "collapsed": false
   },
   "outputs": [],
   "source": [
    "def store(table, id, data):\n",
    "    if not table_exist(table):\n",
    "        create_table(table)\n",
    "    if not row_exist(table, id):\n",
    "        create_row(table, id, data)\n",
    "\n",
    "    con = connect()\n",
    "    if con :\n",
    "        try:\n",
    "            cur = con.cursor()\n",
    "            cur.execute('UPDATE ' + table + ' SET data=\\''+ json.dumps(data) +'\\' WHERE ID=' + str(id))\n",
    "            con.commit()\n",
    "        except Exception as e:\n",
    "            print('store', e)\n",
    "            return False\n",
    "\n",
    "        con.close()\n",
    "        return True\n",
    "    return False\n",
    "\n",
    "print(store('test', 1, 'toto'))\n",
    "print(store('test', 1, 'test'))\n",
    "delete_table('test')"
   ]
  },
  {
   "cell_type": "code",
   "execution_count": null,
   "metadata": {
    "collapsed": false
   },
   "outputs": [],
   "source": [
    "def restore(table, id):\n",
    "    if not table_exist(table) or not row_exist(table, id):\n",
    "        return ''\n",
    "\n",
    "    con = connect()\n",
    "    if con :\n",
    "        try:\n",
    "            cur = con.cursor()\n",
    "            cur.execute('SELECT data FROM ' + table + ' WHERE ID=' + str(id))\n",
    "            records = cur.fetchall()\n",
    "            data = json.loads(records[0][0])\n",
    "        except Exception as e:\n",
    "            return None\n",
    "\n",
    "        con.close()\n",
    "        return data\n",
    "    return None\n",
    "store('test', 1, 'toto')\n",
    "print(restore('test2', 1))\n",
    "print(restore('test', 2))\n",
    "print(restore('test', 1))\n",
    "delete_table('test')"
   ]
  },
  {
   "cell_type": "code",
   "execution_count": null,
   "metadata": {
    "collapsed": false
   },
   "outputs": [],
   "source": [
    "\n",
    "req_tables = \"SELECT table_name FROM information_schema.tables WHERE table_type = 'BASE TABLE' AND table_schema = 'public' ORDER BY table_schema,table_name;\"\n",
    "con = connect()\n",
    "data={}\n",
    "if con :\n",
    "    try:\n",
    "        cur = con.cursor()\n",
    "        cur.execute(req_tables)\n",
    "        records = cur.fetchall()\n",
    "        for record in records:\n",
    "            table = record[0]\n",
    "            data[table] = {}\n",
    "            data_req = 'SELECT * FROM {table};'.format(table=table)\n",
    "            cur.execute(data_req)\n",
    "            rows = cur.fetchall()\n",
    "            for row in rows:\n",
    "                data[table][row[0]] = json.loads(row[1])\n",
    "    except Exception as e:\n",
    "        pass\n",
    "\n",
    "    con.close()\n",
    "print(data)"
   ]
  },
  {
   "cell_type": "code",
   "execution_count": null,
   "metadata": {
    "collapsed": false
   },
   "outputs": [],
   "source": [
    "req_tables = \"SELECT table_name FROM information_schema.tables WHERE table_type = 'BASE TABLE' AND table_schema = 'public' ORDER BY table_schema,table_name;\"\n",
    "con = connect()\n",
    "if con :\n",
    "    try:\n",
    "        cur = con.cursor()\n",
    "        cur.execute(req_tables)\n",
    "        records = cur.fetchall()\n",
    "        for record in records:\n",
    "            table = record[0]\n",
    "            drop_req = 'DROP TABLE {table};'.format(table=table)\n",
    "            cur.execute(drop_req)\n",
    "        con.commit()\n",
    "        \n",
    "        for table in list(data.items()):\n",
    "            table_name = table[0]\n",
    "            print(table_name)\n",
    "            for row in list(table[1].items()):\n",
    "                id = row[0]\n",
    "                print(store(table_name, id, row[1]))\n",
    "    except Exception as e:\n",
    "        pass\n",
    "\n",
    "    con.close()"
   ]
  },
  {
   "cell_type": "code",
   "execution_count": 2,
   "metadata": {
    "collapsed": false
   },
   "outputs": [],
   "source": [
    "from postgres_store import postgres_store"
   ]
  },
  {
   "cell_type": "code",
   "execution_count": 3,
   "metadata": {
    "collapsed": true
   },
   "outputs": [],
   "source": [
    "db = postgres_store('fred', 'fred', '763160', 'localhost', 5432)\n",
    "db_prod = postgres_store('dc7m5co1u7n7ka', 'vfumyroepkgfsd', 'AsRCUy1JTkf500s_2pfXZK9qwR', 'ec2-107-22-246-250.compute-1.amazonaws.com', 5432)"
   ]
  },
  {
   "cell_type": "code",
   "execution_count": null,
   "metadata": {
    "collapsed": false
   },
   "outputs": [],
   "source": [
    "db.store('users', 1, [{'name': 'test'}])\n",
    "db.restore('users', 1)"
   ]
  },
  {
   "cell_type": "code",
   "execution_count": 4,
   "metadata": {
    "collapsed": false
   },
   "outputs": [],
   "source": [
    "data = db_prod.backup()\n",
    "db.restore_backup(data)"
   ]
  },
  {
   "cell_type": "code",
   "execution_count": null,
   "metadata": {
    "collapsed": false
   },
   "outputs": [],
   "source": [
    "for table in list(data.items()):\n",
    "    print(table[0])\n",
    "    table_name = table[0]\n",
    "    for row in list(table[1].items()):\n",
    "        #print(json.dumps(row[1]))\n",
    "        id = row[0]\n",
    "        print(id)\n",
    "        print(store(table_name, id, row[1]))"
   ]
  },
  {
   "cell_type": "code",
   "execution_count": null,
   "metadata": {
    "collapsed": false
   },
   "outputs": [],
   "source": [
    "with open('html/data.txt', 'r') as infile:\n",
    "    data = json.load(infile)"
   ]
  },
  {
   "cell_type": "code",
   "execution_count": null,
   "metadata": {
    "collapsed": false
   },
   "outputs": [],
   "source": [
    "data"
   ]
  },
  {
   "cell_type": "code",
   "execution_count": null,
   "metadata": {
    "collapsed": true
   },
   "outputs": [],
   "source": []
  }
 ],
 "metadata": {
  "kernelspec": {
   "display_name": "Python 2",
   "language": "python",
   "name": "python2"
  },
  "language_info": {
   "codemirror_mode": {
    "name": "ipython",
    "version": 2
   },
   "file_extension": ".py",
   "mimetype": "text/x-python",
   "name": "python",
   "nbconvert_exporter": "python",
   "pygments_lexer": "ipython2",
   "version": "2.7.10"
  }
 },
 "nbformat": 4,
 "nbformat_minor": 0
}
